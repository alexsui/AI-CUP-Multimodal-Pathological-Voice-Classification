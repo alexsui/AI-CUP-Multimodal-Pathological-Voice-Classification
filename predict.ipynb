{
 "cells": [
  {
   "cell_type": "markdown",
   "metadata": {
    "id": "Nhd8KMxi-Bt6"
   },
   "source": [
    "# 載入套件"
   ]
  },
  {
   "cell_type": "code",
   "execution_count": 9,
   "metadata": {
    "id": "WnC7wEOl-Bt7"
   },
   "outputs": [],
   "source": [
    "import numpy as np\n",
    "import pandas as pd\n",
    "import librosa\n",
    "import torch\n",
    "import random\n",
    "from joblib import dump, load\n",
    "import transformers\n",
    "from transformers import AutoFeatureExtractor\n",
    "from transformers import AutoConfig\n",
    "from transformers import AutoModelForAudioClassification"
   ]
  },
  {
   "cell_type": "code",
   "execution_count": 2,
   "metadata": {},
   "outputs": [],
   "source": [
    "seed = 42\n",
    "torch.manual_seed(seed)\n",
    "if torch.cuda.is_available():\n",
    "    torch.cuda.manual_seed_all(seed)\n",
    "np.random.seed(seed)\n",
    "random.seed(seed)\n",
    "torch.backends.cudnn.deterministic = True  \n",
    "torch.backends.cudnn.benchmark = False\n",
    "device = \"cuda\" if torch.cuda.is_available() else \"cpu\""
   ]
  },
  {
   "cell_type": "markdown",
   "metadata": {},
   "source": [
    "# 資料與模型設定"
   ]
  },
  {
   "cell_type": "code",
   "execution_count": 3,
   "metadata": {},
   "outputs": [],
   "source": [
    "public_medical_path = './Public Testing Dataset/test_datalist_public.csv'\n",
    "public_acoustic_path = './Public Testing Dataset/test_data_public/'"
   ]
  },
  {
   "cell_type": "code",
   "execution_count": 4,
   "metadata": {},
   "outputs": [
    {
     "data": {
      "text/plain": [
       "'accoustic_model/checkpoint-1924'"
      ]
     },
     "execution_count": 4,
     "metadata": {},
     "output_type": "execute_result"
    }
   ],
   "source": [
    "final_model_path = \"final_model.joblib\"\n",
    "medical_model_path = \"AI_CUP_medical_model_voting_firsthalf.joblib\"\n",
    "\n",
    "with open(\"./accoustic_model_path.txt\", \"r\") as file:\n",
    "    accoustic_model_path = file.read().strip()\n",
    "accoustic_model_path"
   ]
  },
  {
   "cell_type": "markdown",
   "metadata": {
    "id": "B-gRfMol-Bt8"
   },
   "source": [
    "# 載入訓練資料"
   ]
  },
  {
   "cell_type": "code",
   "execution_count": 5,
   "metadata": {
    "id": "-g92u852-Bt8",
    "outputId": "893ebb4d-aa35-4189-8177-0116dcb38fa0"
   },
   "outputs": [
    {
     "name": "stdout",
     "output_type": "stream",
     "text": [
      "public_source_df.shape : (500, 27)\n",
      "public_source_df.columns : Index(['ID', 'Sex', 'Age', 'Narrow pitch range', 'Decreased volume', 'Fatigue',\n",
      "       'Dryness', 'Lumping', 'heartburn', 'Choking', 'Eye dryness', 'PND',\n",
      "       'Smoking', 'PPD', 'Drinking', 'frequency', 'Diurnal pattern',\n",
      "       'Onset of dysphonia ', 'Noise at work', 'Occupational vocal demand',\n",
      "       'Diabetes', 'Hypertension', 'CAD', 'Head and Neck Cancer',\n",
      "       'Head injury', 'CVA', 'Voice handicap index - 10'],\n",
      "      dtype='object')\n"
     ]
    }
   ],
   "source": [
    "# 讀取訓練資料集表單\n",
    "public_source_df = pd.read_csv(public_medical_path)\n",
    "print(\"public_source_df.shape :\", public_source_df.shape)\n",
    "print(\"public_source_df.columns :\", public_source_df.columns)"
   ]
  },
  {
   "cell_type": "markdown",
   "metadata": {},
   "source": [
    "# 資料前處理"
   ]
  },
  {
   "cell_type": "code",
   "execution_count": 6,
   "metadata": {
    "id": "TfO5vXnI-Bt9"
   },
   "outputs": [],
   "source": [
    "from sklearn.preprocessing import StandardScaler\n",
    "def medical_data_proccessing(df):\n",
    "    # 這邊要加入ID  用於轉換資料時對應\n",
    "    medical_col = ['ID','Sex', 'Age', 'Narrow pitch range',\n",
    "                'Decreased volume', 'Fatigue', 'Dryness', 'Lumping', 'heartburn',\n",
    "                'Choking', 'Eye dryness', 'PND', 'Smoking', 'PPD', 'Drinking',\n",
    "                'frequency', 'Diurnal pattern', 'Onset of dysphonia ', 'Noise at work',\n",
    "                'Occupational vocal demand', 'Diabetes', 'Hypertension', 'CAD',\n",
    "                'Head and Neck Cancer', 'Head injury', 'CVA',\n",
    "                'Voice handicap index - 10']\n",
    "\n",
    "    # 將性別編碼0,1\n",
    "    df['Sex'] = df['Sex'] - 1\n",
    "    # 將空值填0\n",
    "    df['PPD'] = df['PPD'].fillna(0)\n",
    "    df['Voice handicap index - 10'] = df['Voice handicap index - 10'].fillna(0)\n",
    "\n",
    "    # 正規化過大的數值\n",
    "    standardScaler = StandardScaler()\n",
    "    df[['Age','Voice handicap index - 10']] = standardScaler.fit_transform(df[['Age','Voice handicap index - 10']])\n",
    "\n",
    "    return df"
   ]
  },
  {
   "cell_type": "code",
   "execution_count": 7,
   "metadata": {
    "id": "px1LEfnG-Bt9",
    "outputId": "bed3afa1-8451-46d4-c062-0551e93cf4a0"
   },
   "outputs": [
    {
     "name": "stdout",
     "output_type": "stream",
     "text": [
      "df col :\n",
      " Index(['ID', 'Sex', 'Age', 'Narrow pitch range', 'Decreased volume', 'Fatigue',\n",
      "       'Dryness', 'Lumping', 'heartburn', 'Choking', 'Eye dryness', 'PND',\n",
      "       'Smoking', 'PPD', 'Drinking', 'frequency', 'Diurnal pattern',\n",
      "       'Onset of dysphonia ', 'Noise at work', 'Occupational vocal demand',\n",
      "       'Diabetes', 'Hypertension', 'CAD', 'Head and Neck Cancer',\n",
      "       'Head injury', 'CVA', 'Voice handicap index - 10', 'wav_path'],\n",
      "      dtype='object')\n",
      "df shape : (500, 28)\n"
     ]
    }
   ],
   "source": [
    "public_df = medical_data_proccessing(public_source_df)\n",
    "\n",
    "# 在dataframe中加入要訓練的音檔路徑\n",
    "public_df['wav_path'] = public_df['ID'].map(lambda x : f\"{public_acoustic_path}{x}.wav\")\n",
    "\n",
    "print(\"df col :\\n\", public_df.columns)\n",
    "print(\"df shape :\", public_df.shape)"
   ]
  },
  {
   "cell_type": "code",
   "execution_count": 8,
   "metadata": {
    "id": "WY9pQIoK-Bt9",
    "outputId": "a15ec9c2-7f5a-49f6-b7b0-e7b728bfa143"
   },
   "outputs": [
    {
     "name": "stdout",
     "output_type": "stream",
     "text": [
      "data_medical col :\n",
      " Index(['ID', 'Sex', 'Age', 'Narrow pitch range', 'Decreased volume', 'Fatigue',\n",
      "       'Dryness', 'Lumping', 'heartburn', 'Choking', 'Eye dryness', 'PND',\n",
      "       'Smoking', 'PPD', 'Drinking', 'frequency', 'Diurnal pattern',\n",
      "       'Onset of dysphonia ', 'Noise at work', 'Occupational vocal demand',\n",
      "       'Diabetes', 'Hypertension', 'CAD', 'Head and Neck Cancer',\n",
      "       'Head injury', 'CVA', 'Voice handicap index - 10'],\n",
      "      dtype='object')\n",
      "data_medical shape : (500, 27)\n"
     ]
    }
   ],
   "source": [
    "data_medical = public_df.iloc[:, :27]\n",
    "print(\"data_medical col :\\n\", data_medical.columns)\n",
    "print(\"data_medical shape :\", data_medical.shape)"
   ]
  },
  {
   "cell_type": "markdown",
   "metadata": {},
   "source": [
    "# 模型預測"
   ]
  },
  {
   "cell_type": "code",
   "execution_count": 10,
   "metadata": {
    "id": "jRHM3nZ4-Bt-"
   },
   "outputs": [],
   "source": [
    "feature_extractor = AutoFeatureExtractor.from_pretrained(accoustic_model_path)\n",
    "def preprocess_function(examples):\n",
    "    audio_arrays = librosa.load(examples, sr=16000, offset=0)[0]\n",
    "    inputs = feature_extractor(audio_arrays, sampling_rate=16000,max_length=32000,truncation=True, return_tensors=\"pt\")\n",
    "    return inputs"
   ]
  },
  {
   "cell_type": "code",
   "execution_count": 11,
   "metadata": {},
   "outputs": [],
   "source": [
    "def second_stage_dataproccessing(training_df, acoustic_model, medical_model):\n",
    "    training_id = training_df['ID'].tolist()\n",
    "    data = pd.DataFrame()\n",
    "    for id in training_id:\n",
    "        \n",
    "        # 取病理資料接續在mfcc特徵後面\n",
    "        medical_data = training_df[training_df['ID']==id].iloc[:, 1:27]\n",
    "        df = pd.DataFrame(medical_data.copy()).reset_index(drop=True)\n",
    "\n",
    "        # 透過聲學模型預測此病人 (By frame)\n",
    "        inputs = preprocess_function(training_df[training_df['ID']==id]['wav_path'].values[0])\n",
    "        logits = acoustic_model(**inputs).logits[0]\n",
    "        pred = np.argmax(logits.detach().cpu().numpy())\n",
    "        # print(pred)\n",
    "        frame_pred_df = pd.DataFrame({\"acoustic_pred\":[pred]})\n",
    "\n",
    "        df = pd.concat([df, frame_pred_df], axis=1)  # 將聲學模型預測結果接在每個frame的特徵後面\n",
    "\n",
    "        # 透過病理模型預測此病人\n",
    "        medical_pred = medical_model.predict(medical_data)\n",
    "        df['medical_pred'] = medical_pred[0]\n",
    "        df['ID'] = id\n",
    "        data = pd.concat([data, df])\n",
    "        \n",
    "    return data"
   ]
  },
  {
   "cell_type": "code",
   "execution_count": 12,
   "metadata": {},
   "outputs": [],
   "source": [
    "medical_model = load(medical_model_path) \n",
    "acoustic_model = AutoModelForAudioClassification.from_pretrained(accoustic_model_path)"
   ]
  },
  {
   "cell_type": "code",
   "execution_count": 13,
   "metadata": {
    "id": "QGIYO4c9-Bt-",
    "outputId": "e60deb44-a83f-4c42-c35c-1182745f2e03",
    "scrolled": true,
    "tags": []
   },
   "outputs": [
    {
     "name": "stdout",
     "output_type": "stream",
     "text": [
      "training_data.shape : (500, 29)\n"
     ]
    }
   ],
   "source": [
    "public_data = second_stage_dataproccessing(public_df, acoustic_model, medical_model)\n",
    "print(\"training_data.shape :\", public_data.shape)"
   ]
  },
  {
   "cell_type": "code",
   "execution_count": 14,
   "metadata": {},
   "outputs": [],
   "source": [
    "clf = load(final_model_path) "
   ]
  },
  {
   "cell_type": "code",
   "execution_count": 15,
   "metadata": {},
   "outputs": [
    {
     "name": "stderr",
     "output_type": "stream",
     "text": [
      "/home/samuel/.conda/envs/aicup/lib/python3.8/site-packages/sklearn/base.py:439: UserWarning: X does not have valid feature names, but SVC was fitted with feature names\n",
      "  warnings.warn(\n"
     ]
    }
   ],
   "source": [
    "public_pred = pd.DataFrame(clf.predict(public_data.iloc[:,:-1].to_numpy()),columns=['Category'])\n",
    "public_data = public_data.reset_index(drop=True)\n",
    "public_output = pd.concat([public_data.iloc[:,-1],public_pred],axis=1)\n",
    "public_output['Category'] = public_output['Category']+1"
   ]
  },
  {
   "cell_type": "code",
   "execution_count": 17,
   "metadata": {},
   "outputs": [],
   "source": [
    "public_output.to_csv('submission.csv', index=False)"
   ]
  }
 ],
 "metadata": {
  "colab": {
   "provenance": []
  },
  "kernelspec": {
   "display_name": "Python [conda env:.conda-aicup]",
   "language": "python",
   "name": "conda-env-.conda-aicup-py"
  },
  "language_info": {
   "codemirror_mode": {
    "name": "ipython",
    "version": 3
   },
   "file_extension": ".py",
   "mimetype": "text/x-python",
   "name": "python",
   "nbconvert_exporter": "python",
   "pygments_lexer": "ipython3",
   "version": "3.8.16"
  },
  "vscode": {
   "interpreter": {
    "hash": "f97432c16914304dbd818b138841742b9483a5a148ca981647dc7438178b3282"
   }
  }
 },
 "nbformat": 4,
 "nbformat_minor": 4
}
