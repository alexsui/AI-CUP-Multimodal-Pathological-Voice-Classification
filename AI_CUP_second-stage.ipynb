{
 "cells": [
  {
   "cell_type": "markdown",
   "metadata": {
    "id": "Nhd8KMxi-Bt6"
   },
   "source": [
    "# 載入套件"
   ]
  },
  {
   "cell_type": "code",
   "execution_count": 84,
   "metadata": {
    "id": "WnC7wEOl-Bt7"
   },
   "outputs": [],
   "source": [
    "import numpy as np\n",
    "import pandas as pd\n",
    "import librosa\n",
    "from sklearn.metrics import confusion_matrix, ConfusionMatrixDisplay, recall_score,f1_score\n",
    "from pytorch_tabnet.metrics import Metric\n",
    "from pytorch_tabnet.tab_model import TabNetClassifier\n",
    "from xgboost import XGBClassifier\n",
    "from sklearn.svm import SVC\n",
    "from sklearn.model_selection import GridSearchCV, cross_val_score, StratifiedKFold,KFold,RandomizedSearchCV\n",
    "from sklearn.utils import class_weight\n",
    "import torch\n",
    "import random\n",
    "from joblib import dump, load\n",
    "import transformers\n",
    "from transformers import AutoModelForAudioClassification,AutoFeatureExtractor\n"
   ]
  },
  {
   "cell_type": "code",
   "execution_count": 16,
   "metadata": {},
   "outputs": [],
   "source": [
    "seed = 42\n",
    "torch.manual_seed(seed)\n",
    "if torch.cuda.is_available():\n",
    "    torch.cuda.manual_seed_all(seed)\n",
    "np.random.seed(seed)\n",
    "random.seed(seed)\n",
    "torch.backends.cudnn.deterministic = True  \n",
    "torch.backends.cudnn.benchmark = False\n",
    "device = \"cuda\" if torch.cuda.is_available() else \"cpu\""
   ]
  },
  {
   "cell_type": "markdown",
   "metadata": {},
   "source": [
    "# 資料路徑設定"
   ]
  },
  {
   "cell_type": "code",
   "execution_count": 17,
   "metadata": {},
   "outputs": [],
   "source": [
    "medical_file_name = \"./data/training datalist.csv\"\n",
    "accoustic_folder=\"./data/training_voice_data/\""
   ]
  },
  {
   "cell_type": "markdown",
   "metadata": {},
   "source": [
    "# 模型路徑"
   ]
  },
  {
   "cell_type": "code",
   "execution_count": 36,
   "metadata": {},
   "outputs": [
    {
     "data": {
      "text/plain": [
       "'accoustic_model/checkpoint-1924'"
      ]
     },
     "execution_count": 36,
     "metadata": {},
     "output_type": "execute_result"
    }
   ],
   "source": [
    "medical_model_path = \"AI_CUP_medical_model.joblib\"\n",
    "with open(\"./accoustic_model_path.txt\", \"r\") as file:\n",
    "    accoustic_model_path = file.read().strip()\n",
    "accoustic_model_path"
   ]
  },
  {
   "cell_type": "markdown",
   "metadata": {
    "id": "B-gRfMol-Bt8"
   },
   "source": [
    "# 載入訓練資料"
   ]
  },
  {
   "cell_type": "code",
   "execution_count": 37,
   "metadata": {
    "id": "-g92u852-Bt8",
    "outputId": "893ebb4d-aa35-4189-8177-0116dcb38fa0"
   },
   "outputs": [
    {
     "name": "stdout",
     "output_type": "stream",
     "text": [
      "source_df.shape : (1000, 28)\n",
      "source_df.columns : Index(['ID', 'Sex', 'Age', 'Disease category', 'Narrow pitch range',\n",
      "       'Decreased volume', 'Fatigue', 'Dryness', 'Lumping', 'heartburn',\n",
      "       'Choking', 'Eye dryness', 'PND', 'Smoking', 'PPD', 'Drinking',\n",
      "       'frequency', 'Diurnal pattern', 'Onset of dysphonia ', 'Noise at work',\n",
      "       'Occupational vocal demand', 'Diabetes', 'Hypertension', 'CAD',\n",
      "       'Head and Neck Cancer', 'Head injury', 'CVA',\n",
      "       'Voice handicap index - 10'],\n",
      "      dtype='object')\n"
     ]
    }
   ],
   "source": [
    "# 讀取訓練資料集表單\n",
    "source_df = pd.read_csv(medical_file_name)\n",
    "print(\"source_df.shape :\", source_df.shape)\n",
    "print(\"source_df.columns :\", source_df.columns)"
   ]
  },
  {
   "cell_type": "markdown",
   "metadata": {},
   "source": [
    "# 資料前處理"
   ]
  },
  {
   "cell_type": "code",
   "execution_count": 38,
   "metadata": {
    "id": "TfO5vXnI-Bt9"
   },
   "outputs": [],
   "source": [
    "from sklearn.preprocessing import StandardScaler\n",
    "def medical_data_proccessing(df):\n",
    "    # 這邊要加入ID  用於轉換資料時對應\n",
    "    medical_col = ['ID','Sex', 'Age', 'Narrow pitch range',\n",
    "                'Decreased volume', 'Fatigue', 'Dryness', 'Lumping', 'heartburn',\n",
    "                'Choking', 'Eye dryness', 'PND', 'Smoking', 'PPD', 'Drinking',\n",
    "                'frequency', 'Diurnal pattern', 'Onset of dysphonia ', 'Noise at work',\n",
    "                'Occupational vocal demand', 'Diabetes', 'Hypertension', 'CAD',\n",
    "                'Head and Neck Cancer', 'Head injury', 'CVA',\n",
    "                'Voice handicap index - 10', 'Disease category']\n",
    "    \n",
    "    df = df.loc[df['Disease category'].isin([1, 2, 3,4,5]), medical_col]\n",
    "\n",
    "    # 將性別編碼0,1\n",
    "    df['Sex'] = df['Sex'] - 1\n",
    "    df['Disease category'] = df['Disease category']-1\n",
    "    # 將空值填0\n",
    "    df['PPD'] = df['PPD'].fillna(0)\n",
    "    df['Voice handicap index - 10'] = df['Voice handicap index - 10'].fillna(0)\n",
    "\n",
    "    # 正規化過大的數值\n",
    "    standardScaler = StandardScaler()\n",
    "    df[['Age','Voice handicap index - 10']] = standardScaler.fit_transform(df[['Age','Voice handicap index - 10']])\n",
    "\n",
    "    return df"
   ]
  },
  {
   "cell_type": "markdown",
   "metadata": {},
   "source": [
    "# 切分訓練與驗證資料\n",
    "* 確保training data與testing data個類別的比例相同\n",
    "* 將training data分為兩部分first half與second half，前者用在first stage 訓練，後者用在second stage訓練"
   ]
  },
  {
   "cell_type": "code",
   "execution_count": 39,
   "metadata": {},
   "outputs": [
    {
     "name": "stdout",
     "output_type": "stream",
     "text": [
      "training_df shape : (831, 28) , test_df shape : (169, 28)\n"
     ]
    }
   ],
   "source": [
    "training_df = pd.DataFrame()\n",
    "test_df = pd.DataFrame()\n",
    "for i in range(1,6):\n",
    "    len_1=len(source_df[source_df['Disease category']==i])\n",
    "    training_df = pd.concat([training_df,source_df[source_df['Disease category']==i].iloc[:int(len_1/6*5),:]])\n",
    "    test_df = pd.concat([test_df,source_df[source_df['Disease category']==i].iloc[int(len_1/6*5):,:]])\n",
    "print(\"training_df shape :\", training_df.shape, \", test_df shape :\", test_df.shape)"
   ]
  },
  {
   "cell_type": "code",
   "execution_count": 40,
   "metadata": {},
   "outputs": [
    {
     "name": "stdout",
     "output_type": "stream",
     "text": [
      "train_df_second_half shape : (416, 28)\n"
     ]
    }
   ],
   "source": [
    "train_df_second_half = pd.DataFrame()\n",
    "for i in range(1,6):\n",
    "    len_1=len(training_df[training_df['Disease category']==i])\n",
    "    train_df_second_half = pd.concat([train_df_second_half,training_df[training_df['Disease category']==i].iloc[int(len_1/2):,:]])\n",
    "print(\"train_df_second_half shape :\", train_df_second_half.shape)"
   ]
  },
  {
   "cell_type": "code",
   "execution_count": 41,
   "metadata": {},
   "outputs": [
    {
     "data": {
      "text/plain": [
       "Disease category\n",
       "1    223\n",
       "2     92\n",
       "3     70\n",
       "4     18\n",
       "5     13\n",
       "Name: count, dtype: int64"
      ]
     },
     "execution_count": 41,
     "metadata": {},
     "output_type": "execute_result"
    }
   ],
   "source": [
    "train_df_second_half['Disease category'].value_counts()"
   ]
  },
  {
   "cell_type": "code",
   "execution_count": 42,
   "metadata": {},
   "outputs": [],
   "source": [
    "training_df = train_df_second_half.sample(frac=1).reset_index(drop=True)\n",
    "test_df = test_df.sample(frac=1).reset_index(drop=True)"
   ]
  },
  {
   "cell_type": "code",
   "execution_count": 43,
   "metadata": {
    "id": "px1LEfnG-Bt9",
    "outputId": "bed3afa1-8451-46d4-c062-0551e93cf4a0"
   },
   "outputs": [
    {
     "name": "stdout",
     "output_type": "stream",
     "text": [
      "Disease category in training_df : [0 1 2 3 4]\n",
      "training_df col :\n",
      " Index(['ID', 'Sex', 'Age', 'Narrow pitch range', 'Decreased volume', 'Fatigue',\n",
      "       'Dryness', 'Lumping', 'heartburn', 'Choking', 'Eye dryness', 'PND',\n",
      "       'Smoking', 'PPD', 'Drinking', 'frequency', 'Diurnal pattern',\n",
      "       'Onset of dysphonia ', 'Noise at work', 'Occupational vocal demand',\n",
      "       'Diabetes', 'Hypertension', 'CAD', 'Head and Neck Cancer',\n",
      "       'Head injury', 'CVA', 'Voice handicap index - 10', 'Disease category',\n",
      "       'wav_path'],\n",
      "      dtype='object')\n",
      "training_df shape : (416, 29)\n"
     ]
    }
   ],
   "source": [
    "training_df = medical_data_proccessing(training_df)\n",
    "\n",
    "# 在dataframe中加入要訓練的音檔路徑\n",
    "training_df['wav_path'] = training_df['ID'].map(lambda x :f\"{accoustic_folder}{x}.wav\")\n",
    "\n",
    "print(\"Disease category in training_df :\", training_df['Disease category'].unique())\n",
    "print(\"training_df col :\\n\", training_df.columns)\n",
    "print(\"training_df shape :\", training_df.shape)"
   ]
  },
  {
   "cell_type": "code",
   "execution_count": 44,
   "metadata": {
    "id": "7rSdW-Jv-Bt_",
    "outputId": "dfff249b-ff9f-45d5-8e8e-0fa90b46792c"
   },
   "outputs": [
    {
     "name": "stdout",
     "output_type": "stream",
     "text": [
      "test_df columns : Index(['ID', 'Sex', 'Age', 'Narrow pitch range', 'Decreased volume', 'Fatigue',\n",
      "       'Dryness', 'Lumping', 'heartburn', 'Choking', 'Eye dryness', 'PND',\n",
      "       'Smoking', 'PPD', 'Drinking', 'frequency', 'Diurnal pattern',\n",
      "       'Onset of dysphonia ', 'Noise at work', 'Occupational vocal demand',\n",
      "       'Diabetes', 'Hypertension', 'CAD', 'Head and Neck Cancer',\n",
      "       'Head injury', 'CVA', 'Voice handicap index - 10', 'Disease category',\n",
      "       'wav_path'],\n",
      "      dtype='object')\n",
      "test_df.shape : (169, 29)\n"
     ]
    }
   ],
   "source": [
    "test_df = medical_data_proccessing(test_df)\n",
    "\n",
    "# 在dataframe中加入要測試的音檔路徑\n",
    "test_df['wav_path'] = test_df['ID'].map(lambda x :f\"{accoustic_folder}{x}.wav\")\n",
    "\n",
    "print(\"test_df columns :\", test_df.columns)\n",
    "print(\"test_df.shape :\", test_df.shape)"
   ]
  },
  {
   "cell_type": "markdown",
   "metadata": {
    "id": "0gFrIgU6-Bt-"
   },
   "source": [
    "## 準備第二階段模型的訓練資料"
   ]
  },
  {
   "cell_type": "code",
   "execution_count": 45,
   "metadata": {
    "id": "jRHM3nZ4-Bt-"
   },
   "outputs": [],
   "source": [
    "feature_extractor = AutoFeatureExtractor.from_pretrained(accoustic_model_path)\n",
    "def preprocess_function(examples):\n",
    "    audio_arrays = librosa.load(examples, sr=16000, offset=0)[0]\n",
    "    inputs = feature_extractor(audio_arrays, sampling_rate=16000, return_tensors=\"pt\")\n",
    "    return inputs"
   ]
  },
  {
   "cell_type": "code",
   "execution_count": 46,
   "metadata": {},
   "outputs": [],
   "source": [
    "def second_stage_dataproccessing(training_df, acoustic_model, medical_model):\n",
    "    training_id = training_df['ID'].tolist()\n",
    "    training_data = pd.DataFrame()\n",
    "    for id in training_id:\n",
    "        \n",
    "        # 取病理資料\n",
    "        medical_data = training_df[training_df['ID']==id].iloc[:, 1:27]\n",
    "        df = pd.DataFrame(medical_data.copy()).reset_index(drop=True)\n",
    "\n",
    "        # 透過聲學模型預測此病人的狀態\n",
    "        inputs = preprocess_function(training_df[training_df['ID']==id]['wav_path'].values[0])\n",
    "        logits = acoustic_model(**inputs).logits[0]\n",
    "        pred = np.argmax(logits.detach().cpu().numpy())\n",
    "        frame_pred_df = pd.DataFrame({\"acoustic_pred\":[pred]})\n",
    "        df = pd.concat([df, frame_pred_df], axis=1)  \n",
    "\n",
    "        # 透過病理模型預測此病人的狀態\n",
    "        medical_pred = medical_model.predict(medical_data)\n",
    "        df['medical_pred'] = medical_pred[0]\n",
    "        \n",
    "        # 訓練資料標記\n",
    "        label = training_df[training_df['ID']==id]['Disease category'].values[0]\n",
    "        df['class'] = label\n",
    "        training_data = pd.concat([training_data, df])\n",
    "\n",
    "    return training_data"
   ]
  },
  {
   "cell_type": "code",
   "execution_count": 47,
   "metadata": {},
   "outputs": [],
   "source": [
    "medical_model = load(medical_model_path)\n",
    "acoustic_model = AutoModelForAudioClassification.from_pretrained(accoustic_model_path)"
   ]
  },
  {
   "cell_type": "code",
   "execution_count": 48,
   "metadata": {
    "id": "QGIYO4c9-Bt-",
    "outputId": "e60deb44-a83f-4c42-c35c-1182745f2e03",
    "scrolled": true,
    "tags": []
   },
   "outputs": [
    {
     "name": "stdout",
     "output_type": "stream",
     "text": [
      "training_data.shape : (416, 29)\n"
     ]
    }
   ],
   "source": [
    "training_data = second_stage_dataproccessing(training_df, acoustic_model, medical_model)\n",
    "print(\"training_data.shape :\", training_data.shape)"
   ]
  },
  {
   "cell_type": "code",
   "execution_count": 49,
   "metadata": {},
   "outputs": [
    {
     "data": {
      "text/plain": [
       "0.6610576923076923"
      ]
     },
     "execution_count": 49,
     "metadata": {},
     "output_type": "execute_result"
    }
   ],
   "source": [
    "(training_data['acoustic_pred']==training_data['class']).sum()/len(training_data)"
   ]
  },
  {
   "cell_type": "code",
   "execution_count": 50,
   "metadata": {},
   "outputs": [
    {
     "data": {
      "text/plain": [
       "0.6514423076923077"
      ]
     },
     "execution_count": 50,
     "metadata": {},
     "output_type": "execute_result"
    }
   ],
   "source": [
    "(training_data['medical_pred']==training_data['class']).sum()/len(training_data)"
   ]
  },
  {
   "cell_type": "code",
   "execution_count": 51,
   "metadata": {},
   "outputs": [
    {
     "name": "stdout",
     "output_type": "stream",
     "text": [
      "x_train.shape, y_train.shape : (416, 28) (416, 1)\n",
      "y_train.columns : ['class']\n"
     ]
    }
   ],
   "source": [
    "X_train = training_data.iloc[:, :-1]\n",
    "y_train = training_data.iloc[:, -1:]\n",
    "print(\"x_train.shape, y_train.shape :\", X_train.shape, y_train.shape)\n",
    "print(\"y_train.columns :\", y_train.columns.tolist())"
   ]
  },
  {
   "cell_type": "code",
   "execution_count": 52,
   "metadata": {},
   "outputs": [
    {
     "name": "stdout",
     "output_type": "stream",
     "text": [
      "test_data.shape : (169, 29)\n",
      "x_val.shape, y_val.shape : (169, 28) (169, 1)\n",
      "y_val.columns : ['class']\n"
     ]
    }
   ],
   "source": [
    "test_data = second_stage_dataproccessing(test_df, acoustic_model, medical_model)\n",
    "\n",
    "print(\"test_data.shape :\", test_data.shape)\n",
    "\n",
    "X_val = test_data.iloc[:, :-1]\n",
    "y_val = test_data.iloc[:, -1:]\n",
    "print(\"x_val.shape, y_val.shape :\", X_val.shape, y_val.shape)\n",
    "print(\"y_val.columns :\", y_val.columns.tolist())"
   ]
  },
  {
   "cell_type": "markdown",
   "metadata": {},
   "source": [
    "# 訓練二階段模型"
   ]
  },
  {
   "cell_type": "markdown",
   "metadata": {},
   "source": [
    "## 嘗試用XGBoost、SVM與tabnet做最後預測"
   ]
  },
  {
   "cell_type": "code",
   "execution_count": 53,
   "metadata": {},
   "outputs": [],
   "source": [
    "def mean_recall(classifier,X,y):\n",
    "    y_pred = classifier.predict(X)\n",
    "    results_recall = recall_score(y, y_pred, average=None).mean()\n",
    "    return results_recall"
   ]
  },
  {
   "cell_type": "code",
   "execution_count": 54,
   "metadata": {},
   "outputs": [],
   "source": [
    "sample_weights = class_weight.compute_sample_weight(\n",
    "    class_weight='balanced',\n",
    "    y=y_train\n",
    ")"
   ]
  },
  {
   "cell_type": "code",
   "execution_count": 55,
   "metadata": {},
   "outputs": [
    {
     "data": {
      "text/plain": [
       "array([0.37309417, 0.90434783, 1.18857143, 4.62222222, 6.4       ])"
      ]
     },
     "execution_count": 55,
     "metadata": {},
     "output_type": "execute_result"
    }
   ],
   "source": [
    "class_weights = class_weight.compute_class_weight(class_weight='balanced', classes=np.unique(y_train.squeeze()), y=y_train.squeeze())\n",
    "class_weights"
   ]
  },
  {
   "cell_type": "code",
   "execution_count": 56,
   "metadata": {},
   "outputs": [],
   "source": [
    "kfold = StratifiedKFold(random_state=42,shuffle=True)"
   ]
  },
  {
   "cell_type": "markdown",
   "metadata": {},
   "source": [
    "## xgb"
   ]
  },
  {
   "cell_type": "code",
   "execution_count": 57,
   "metadata": {},
   "outputs": [
    {
     "data": {
      "text/html": [
       "<style>#sk-container-id-1 {color: black;background-color: white;}#sk-container-id-1 pre{padding: 0;}#sk-container-id-1 div.sk-toggleable {background-color: white;}#sk-container-id-1 label.sk-toggleable__label {cursor: pointer;display: block;width: 100%;margin-bottom: 0;padding: 0.3em;box-sizing: border-box;text-align: center;}#sk-container-id-1 label.sk-toggleable__label-arrow:before {content: \"▸\";float: left;margin-right: 0.25em;color: #696969;}#sk-container-id-1 label.sk-toggleable__label-arrow:hover:before {color: black;}#sk-container-id-1 div.sk-estimator:hover label.sk-toggleable__label-arrow:before {color: black;}#sk-container-id-1 div.sk-toggleable__content {max-height: 0;max-width: 0;overflow: hidden;text-align: left;background-color: #f0f8ff;}#sk-container-id-1 div.sk-toggleable__content pre {margin: 0.2em;color: black;border-radius: 0.25em;background-color: #f0f8ff;}#sk-container-id-1 input.sk-toggleable__control:checked~div.sk-toggleable__content {max-height: 200px;max-width: 100%;overflow: auto;}#sk-container-id-1 input.sk-toggleable__control:checked~label.sk-toggleable__label-arrow:before {content: \"▾\";}#sk-container-id-1 div.sk-estimator input.sk-toggleable__control:checked~label.sk-toggleable__label {background-color: #d4ebff;}#sk-container-id-1 div.sk-label input.sk-toggleable__control:checked~label.sk-toggleable__label {background-color: #d4ebff;}#sk-container-id-1 input.sk-hidden--visually {border: 0;clip: rect(1px 1px 1px 1px);clip: rect(1px, 1px, 1px, 1px);height: 1px;margin: -1px;overflow: hidden;padding: 0;position: absolute;width: 1px;}#sk-container-id-1 div.sk-estimator {font-family: monospace;background-color: #f0f8ff;border: 1px dotted black;border-radius: 0.25em;box-sizing: border-box;margin-bottom: 0.5em;}#sk-container-id-1 div.sk-estimator:hover {background-color: #d4ebff;}#sk-container-id-1 div.sk-parallel-item::after {content: \"\";width: 100%;border-bottom: 1px solid gray;flex-grow: 1;}#sk-container-id-1 div.sk-label:hover label.sk-toggleable__label {background-color: #d4ebff;}#sk-container-id-1 div.sk-serial::before {content: \"\";position: absolute;border-left: 1px solid gray;box-sizing: border-box;top: 0;bottom: 0;left: 50%;z-index: 0;}#sk-container-id-1 div.sk-serial {display: flex;flex-direction: column;align-items: center;background-color: white;padding-right: 0.2em;padding-left: 0.2em;position: relative;}#sk-container-id-1 div.sk-item {position: relative;z-index: 1;}#sk-container-id-1 div.sk-parallel {display: flex;align-items: stretch;justify-content: center;background-color: white;position: relative;}#sk-container-id-1 div.sk-item::before, #sk-container-id-1 div.sk-parallel-item::before {content: \"\";position: absolute;border-left: 1px solid gray;box-sizing: border-box;top: 0;bottom: 0;left: 50%;z-index: -1;}#sk-container-id-1 div.sk-parallel-item {display: flex;flex-direction: column;z-index: 1;position: relative;background-color: white;}#sk-container-id-1 div.sk-parallel-item:first-child::after {align-self: flex-end;width: 50%;}#sk-container-id-1 div.sk-parallel-item:last-child::after {align-self: flex-start;width: 50%;}#sk-container-id-1 div.sk-parallel-item:only-child::after {width: 0;}#sk-container-id-1 div.sk-dashed-wrapped {border: 1px dashed gray;margin: 0 0.4em 0.5em 0.4em;box-sizing: border-box;padding-bottom: 0.4em;background-color: white;}#sk-container-id-1 div.sk-label label {font-family: monospace;font-weight: bold;display: inline-block;line-height: 1.2em;}#sk-container-id-1 div.sk-label-container {text-align: center;}#sk-container-id-1 div.sk-container {/* jupyter's `normalize.less` sets `[hidden] { display: none; }` but bootstrap.min.css set `[hidden] { display: none !important; }` so we also need the `!important` here to be able to override the default hidden behavior on the sphinx rendered scikit-learn.org. See: https://github.com/scikit-learn/scikit-learn/issues/21755 */display: inline-block !important;position: relative;}#sk-container-id-1 div.sk-text-repr-fallback {display: none;}</style><div id=\"sk-container-id-1\" class=\"sk-top-container\"><div class=\"sk-text-repr-fallback\"><pre>GridSearchCV(cv=StratifiedKFold(n_splits=5, random_state=42, shuffle=True),\n",
       "             estimator=XGBClassifier(base_score=None, booster=None,\n",
       "                                     callbacks=None, colsample_bylevel=None,\n",
       "                                     colsample_bynode=None,\n",
       "                                     colsample_bytree=None,\n",
       "                                     early_stopping_rounds=None,\n",
       "                                     enable_categorical=False, eval_metric=None,\n",
       "                                     feature_types=None, gamma=None,\n",
       "                                     gpu_id=None, grow_policy=None,\n",
       "                                     importance_typ...\n",
       "                                     num_parallel_tree=None, predictor=None,\n",
       "                                     random_state=None, ...),\n",
       "             n_jobs=-1,\n",
       "             param_grid={&#x27;colsample_bytree&#x27;: [0.1, 0.2],\n",
       "                         &#x27;gamma&#x27;: [0.0, 0.1, 0.2, 0.3, 0.4],\n",
       "                         &#x27;learning_rate&#x27;: [0.05, 0.1, 0.15, 0.2, 0.25, 0.3,\n",
       "                                           0.35],\n",
       "                         &#x27;max_depth&#x27;: [1, 2, 3, 4],\n",
       "                         &#x27;min_child_weight&#x27;: range(3, 7),\n",
       "                         &#x27;n_estimators&#x27;: [50, 100, 150, 200, 250],\n",
       "                         &#x27;subsample&#x27;: [0.8, 0.9, 1.0]},\n",
       "             scoring=&lt;function mean_recall at 0x7fd1483fa0d0&gt;)</pre><b>In a Jupyter environment, please rerun this cell to show the HTML representation or trust the notebook. <br />On GitHub, the HTML representation is unable to render, please try loading this page with nbviewer.org.</b></div><div class=\"sk-container\" hidden><div class=\"sk-item sk-dashed-wrapped\"><div class=\"sk-label-container\"><div class=\"sk-label sk-toggleable\"><input class=\"sk-toggleable__control sk-hidden--visually\" id=\"sk-estimator-id-1\" type=\"checkbox\" ><label for=\"sk-estimator-id-1\" class=\"sk-toggleable__label sk-toggleable__label-arrow\">GridSearchCV</label><div class=\"sk-toggleable__content\"><pre>GridSearchCV(cv=StratifiedKFold(n_splits=5, random_state=42, shuffle=True),\n",
       "             estimator=XGBClassifier(base_score=None, booster=None,\n",
       "                                     callbacks=None, colsample_bylevel=None,\n",
       "                                     colsample_bynode=None,\n",
       "                                     colsample_bytree=None,\n",
       "                                     early_stopping_rounds=None,\n",
       "                                     enable_categorical=False, eval_metric=None,\n",
       "                                     feature_types=None, gamma=None,\n",
       "                                     gpu_id=None, grow_policy=None,\n",
       "                                     importance_typ...\n",
       "                                     num_parallel_tree=None, predictor=None,\n",
       "                                     random_state=None, ...),\n",
       "             n_jobs=-1,\n",
       "             param_grid={&#x27;colsample_bytree&#x27;: [0.1, 0.2],\n",
       "                         &#x27;gamma&#x27;: [0.0, 0.1, 0.2, 0.3, 0.4],\n",
       "                         &#x27;learning_rate&#x27;: [0.05, 0.1, 0.15, 0.2, 0.25, 0.3,\n",
       "                                           0.35],\n",
       "                         &#x27;max_depth&#x27;: [1, 2, 3, 4],\n",
       "                         &#x27;min_child_weight&#x27;: range(3, 7),\n",
       "                         &#x27;n_estimators&#x27;: [50, 100, 150, 200, 250],\n",
       "                         &#x27;subsample&#x27;: [0.8, 0.9, 1.0]},\n",
       "             scoring=&lt;function mean_recall at 0x7fd1483fa0d0&gt;)</pre></div></div></div><div class=\"sk-parallel\"><div class=\"sk-parallel-item\"><div class=\"sk-item\"><div class=\"sk-label-container\"><div class=\"sk-label sk-toggleable\"><input class=\"sk-toggleable__control sk-hidden--visually\" id=\"sk-estimator-id-2\" type=\"checkbox\" ><label for=\"sk-estimator-id-2\" class=\"sk-toggleable__label sk-toggleable__label-arrow\">estimator: XGBClassifier</label><div class=\"sk-toggleable__content\"><pre>XGBClassifier(base_score=None, booster=None, callbacks=None,\n",
       "              colsample_bylevel=None, colsample_bynode=None,\n",
       "              colsample_bytree=None, early_stopping_rounds=None,\n",
       "              enable_categorical=False, eval_metric=None, feature_types=None,\n",
       "              gamma=None, gpu_id=None, grow_policy=None, importance_type=None,\n",
       "              interaction_constraints=None, learning_rate=None, max_bin=None,\n",
       "              max_cat_threshold=None, max_cat_to_onehot=None,\n",
       "              max_delta_step=None, max_depth=None, max_leaves=None,\n",
       "              min_child_weight=None, missing=nan, monotone_constraints=None,\n",
       "              n_estimators=100, n_jobs=None, num_parallel_tree=None,\n",
       "              predictor=None, random_state=None, ...)</pre></div></div></div><div class=\"sk-serial\"><div class=\"sk-item\"><div class=\"sk-estimator sk-toggleable\"><input class=\"sk-toggleable__control sk-hidden--visually\" id=\"sk-estimator-id-3\" type=\"checkbox\" ><label for=\"sk-estimator-id-3\" class=\"sk-toggleable__label sk-toggleable__label-arrow\">XGBClassifier</label><div class=\"sk-toggleable__content\"><pre>XGBClassifier(base_score=None, booster=None, callbacks=None,\n",
       "              colsample_bylevel=None, colsample_bynode=None,\n",
       "              colsample_bytree=None, early_stopping_rounds=None,\n",
       "              enable_categorical=False, eval_metric=None, feature_types=None,\n",
       "              gamma=None, gpu_id=None, grow_policy=None, importance_type=None,\n",
       "              interaction_constraints=None, learning_rate=None, max_bin=None,\n",
       "              max_cat_threshold=None, max_cat_to_onehot=None,\n",
       "              max_delta_step=None, max_depth=None, max_leaves=None,\n",
       "              min_child_weight=None, missing=nan, monotone_constraints=None,\n",
       "              n_estimators=100, n_jobs=None, num_parallel_tree=None,\n",
       "              predictor=None, random_state=None, ...)</pre></div></div></div></div></div></div></div></div></div></div>"
      ],
      "text/plain": [
       "GridSearchCV(cv=StratifiedKFold(n_splits=5, random_state=42, shuffle=True),\n",
       "             estimator=XGBClassifier(base_score=None, booster=None,\n",
       "                                     callbacks=None, colsample_bylevel=None,\n",
       "                                     colsample_bynode=None,\n",
       "                                     colsample_bytree=None,\n",
       "                                     early_stopping_rounds=None,\n",
       "                                     enable_categorical=False, eval_metric=None,\n",
       "                                     feature_types=None, gamma=None,\n",
       "                                     gpu_id=None, grow_policy=None,\n",
       "                                     importance_typ...\n",
       "                                     num_parallel_tree=None, predictor=None,\n",
       "                                     random_state=None, ...),\n",
       "             n_jobs=-1,\n",
       "             param_grid={'colsample_bytree': [0.1, 0.2],\n",
       "                         'gamma': [0.0, 0.1, 0.2, 0.3, 0.4],\n",
       "                         'learning_rate': [0.05, 0.1, 0.15, 0.2, 0.25, 0.3,\n",
       "                                           0.35],\n",
       "                         'max_depth': [1, 2, 3, 4],\n",
       "                         'min_child_weight': range(3, 7),\n",
       "                         'n_estimators': [50, 100, 150, 200, 250],\n",
       "                         'subsample': [0.8, 0.9, 1.0]},\n",
       "             scoring=<function mean_recall at 0x7fd1483fa0d0>)"
      ]
     },
     "execution_count": 57,
     "metadata": {},
     "output_type": "execute_result"
    }
   ],
   "source": [
    "from sklearn.utils import class_weight\n",
    "from sklearn.model_selection import GridSearchCV,RandomizedSearchCV,StratifiedKFold\n",
    "import xgboost\n",
    "\n",
    "xgb = xgboost.XGBClassifier()\n",
    "param_test= {\n",
    " 'n_estimators':[i*50 for i in range(1,6)],\n",
    "    'max_depth':[1,2,3,4],\n",
    " 'min_child_weight':range(3,7),\n",
    "    'gamma':[i/10.0 for i in range(0,5)],\n",
    "    \"subsample\": [i/10 for i in range(8,11)],\n",
    "    \"colsample_bytree\":[i/10 for i in range(1,3)],\n",
    "     'learning_rate':[i/20 for i in range(1,8)]\n",
    "}\n",
    "gs_xgb =GridSearchCV(xgb,param_test,cv = kfold,scoring=mean_recall,n_jobs=-1)\n",
    "gs_xgb.fit(X_train, y_train,sample_weight = sample_weights)"
   ]
  },
  {
   "cell_type": "code",
   "execution_count": 58,
   "metadata": {},
   "outputs": [
    {
     "data": {
      "text/plain": [
       "(0.5371583504215083,\n",
       " {'colsample_bytree': 0.2,\n",
       "  'gamma': 0.2,\n",
       "  'learning_rate': 0.1,\n",
       "  'max_depth': 2,\n",
       "  'min_child_weight': 5,\n",
       "  'n_estimators': 100,\n",
       "  'subsample': 0.8})"
      ]
     },
     "execution_count": 58,
     "metadata": {},
     "output_type": "execute_result"
    }
   ],
   "source": [
    "gs_xgb.best_score_,gs_xgb.best_params_"
   ]
  },
  {
   "cell_type": "code",
   "execution_count": 59,
   "metadata": {},
   "outputs": [],
   "source": [
    "best_xgb = gs_xgb.best_estimator_"
   ]
  },
  {
   "cell_type": "code",
   "execution_count": 60,
   "metadata": {},
   "outputs": [
    {
     "data": {
      "text/plain": [
       "0.5627992277992278"
      ]
     },
     "execution_count": 60,
     "metadata": {},
     "output_type": "execute_result"
    }
   ],
   "source": [
    "mean_recall(best_xgb,X_val,y_val)"
   ]
  },
  {
   "cell_type": "code",
   "execution_count": 61,
   "metadata": {},
   "outputs": [
    {
     "data": {
      "text/plain": [
       "<Axes: >"
      ]
     },
     "execution_count": 61,
     "metadata": {},
     "output_type": "execute_result"
    },
    {
     "data": {
      "image/png": "[encoded data removed]",
      "text/plain": [
       "<Figure size 640x480 with 1 Axes>"
      ]
     },
     "metadata": {},
     "output_type": "display_data"
    }
   ],
   "source": [
    "df = pd.DataFrame(best_xgb.feature_importances_,columns=[\"feature importance\"])\n",
    "df.index = best_xgb.feature_names_in_\n",
    "df.plot(kind='bar')\n"
   ]
  },
  {
   "cell_type": "markdown",
   "metadata": {
    "tags": []
   },
   "source": [
    "## SVM"
   ]
  },
  {
   "cell_type": "code",
   "execution_count": 78,
   "metadata": {},
   "outputs": [
    {
     "name": "stdout",
     "output_type": "stream",
     "text": [
      "Fitting 5 folds for each of 12 candidates, totalling 60 fits\n"
     ]
    },
    {
     "data": {
      "text/html": [
       "<style>#sk-container-id-6 {color: black;background-color: white;}#sk-container-id-6 pre{padding: 0;}#sk-container-id-6 div.sk-toggleable {background-color: white;}#sk-container-id-6 label.sk-toggleable__label {cursor: pointer;display: block;width: 100%;margin-bottom: 0;padding: 0.3em;box-sizing: border-box;text-align: center;}#sk-container-id-6 label.sk-toggleable__label-arrow:before {content: \"▸\";float: left;margin-right: 0.25em;color: #696969;}#sk-container-id-6 label.sk-toggleable__label-arrow:hover:before {color: black;}#sk-container-id-6 div.sk-estimator:hover label.sk-toggleable__label-arrow:before {color: black;}#sk-container-id-6 div.sk-toggleable__content {max-height: 0;max-width: 0;overflow: hidden;text-align: left;background-color: #f0f8ff;}#sk-container-id-6 div.sk-toggleable__content pre {margin: 0.2em;color: black;border-radius: 0.25em;background-color: #f0f8ff;}#sk-container-id-6 input.sk-toggleable__control:checked~div.sk-toggleable__content {max-height: 200px;max-width: 100%;overflow: auto;}#sk-container-id-6 input.sk-toggleable__control:checked~label.sk-toggleable__label-arrow:before {content: \"▾\";}#sk-container-id-6 div.sk-estimator input.sk-toggleable__control:checked~label.sk-toggleable__label {background-color: #d4ebff;}#sk-container-id-6 div.sk-label input.sk-toggleable__control:checked~label.sk-toggleable__label {background-color: #d4ebff;}#sk-container-id-6 input.sk-hidden--visually {border: 0;clip: rect(1px 1px 1px 1px);clip: rect(1px, 1px, 1px, 1px);height: 1px;margin: -1px;overflow: hidden;padding: 0;position: absolute;width: 1px;}#sk-container-id-6 div.sk-estimator {font-family: monospace;background-color: #f0f8ff;border: 1px dotted black;border-radius: 0.25em;box-sizing: border-box;margin-bottom: 0.5em;}#sk-container-id-6 div.sk-estimator:hover {background-color: #d4ebff;}#sk-container-id-6 div.sk-parallel-item::after {content: \"\";width: 100%;border-bottom: 1px solid gray;flex-grow: 1;}#sk-container-id-6 div.sk-label:hover label.sk-toggleable__label {background-color: #d4ebff;}#sk-container-id-6 div.sk-serial::before {content: \"\";position: absolute;border-left: 1px solid gray;box-sizing: border-box;top: 0;bottom: 0;left: 50%;z-index: 0;}#sk-container-id-6 div.sk-serial {display: flex;flex-direction: column;align-items: center;background-color: white;padding-right: 0.2em;padding-left: 0.2em;position: relative;}#sk-container-id-6 div.sk-item {position: relative;z-index: 1;}#sk-container-id-6 div.sk-parallel {display: flex;align-items: stretch;justify-content: center;background-color: white;position: relative;}#sk-container-id-6 div.sk-item::before, #sk-container-id-6 div.sk-parallel-item::before {content: \"\";position: absolute;border-left: 1px solid gray;box-sizing: border-box;top: 0;bottom: 0;left: 50%;z-index: -1;}#sk-container-id-6 div.sk-parallel-item {display: flex;flex-direction: column;z-index: 1;position: relative;background-color: white;}#sk-container-id-6 div.sk-parallel-item:first-child::after {align-self: flex-end;width: 50%;}#sk-container-id-6 div.sk-parallel-item:last-child::after {align-self: flex-start;width: 50%;}#sk-container-id-6 div.sk-parallel-item:only-child::after {width: 0;}#sk-container-id-6 div.sk-dashed-wrapped {border: 1px dashed gray;margin: 0 0.4em 0.5em 0.4em;box-sizing: border-box;padding-bottom: 0.4em;background-color: white;}#sk-container-id-6 div.sk-label label {font-family: monospace;font-weight: bold;display: inline-block;line-height: 1.2em;}#sk-container-id-6 div.sk-label-container {text-align: center;}#sk-container-id-6 div.sk-container {/* jupyter's `normalize.less` sets `[hidden] { display: none; }` but bootstrap.min.css set `[hidden] { display: none !important; }` so we also need the `!important` here to be able to override the default hidden behavior on the sphinx rendered scikit-learn.org. See: https://github.com/scikit-learn/scikit-learn/issues/21755 */display: inline-block !important;position: relative;}#sk-container-id-6 div.sk-text-repr-fallback {display: none;}</style><div id=\"sk-container-id-6\" class=\"sk-top-container\"><div class=\"sk-text-repr-fallback\"><pre>GridSearchCV(cv=StratifiedKFold(n_splits=5, random_state=None, shuffle=True),\n",
       "             estimator=SVC(class_weight={0: 0.37309417040358744,\n",
       "                                         1: 0.9043478260869565,\n",
       "                                         2: 1.1885714285714286,\n",
       "                                         3: 4.622222222222222, 4: 6.4},\n",
       "                           probability=True, random_state=42),\n",
       "             n_jobs=-1,\n",
       "             param_grid={&#x27;C&#x27;: [1, 50, 100], &#x27;gamma&#x27;: [0.001, 0.01, 0.1, 1],\n",
       "                         &#x27;kernel&#x27;: [&#x27;rbf&#x27;]},\n",
       "             scoring=&lt;function mean_recall at 0x7fd1483fa0d0&gt;, verbose=1)</pre><b>In a Jupyter environment, please rerun this cell to show the HTML representation or trust the notebook. <br />On GitHub, the HTML representation is unable to render, please try loading this page with nbviewer.org.</b></div><div class=\"sk-container\" hidden><div class=\"sk-item sk-dashed-wrapped\"><div class=\"sk-label-container\"><div class=\"sk-label sk-toggleable\"><input class=\"sk-toggleable__control sk-hidden--visually\" id=\"sk-estimator-id-16\" type=\"checkbox\" ><label for=\"sk-estimator-id-16\" class=\"sk-toggleable__label sk-toggleable__label-arrow\">GridSearchCV</label><div class=\"sk-toggleable__content\"><pre>GridSearchCV(cv=StratifiedKFold(n_splits=5, random_state=None, shuffle=True),\n",
       "             estimator=SVC(class_weight={0: 0.37309417040358744,\n",
       "                                         1: 0.9043478260869565,\n",
       "                                         2: 1.1885714285714286,\n",
       "                                         3: 4.622222222222222, 4: 6.4},\n",
       "                           probability=True, random_state=42),\n",
       "             n_jobs=-1,\n",
       "             param_grid={&#x27;C&#x27;: [1, 50, 100], &#x27;gamma&#x27;: [0.001, 0.01, 0.1, 1],\n",
       "                         &#x27;kernel&#x27;: [&#x27;rbf&#x27;]},\n",
       "             scoring=&lt;function mean_recall at 0x7fd1483fa0d0&gt;, verbose=1)</pre></div></div></div><div class=\"sk-parallel\"><div class=\"sk-parallel-item\"><div class=\"sk-item\"><div class=\"sk-label-container\"><div class=\"sk-label sk-toggleable\"><input class=\"sk-toggleable__control sk-hidden--visually\" id=\"sk-estimator-id-17\" type=\"checkbox\" ><label for=\"sk-estimator-id-17\" class=\"sk-toggleable__label sk-toggleable__label-arrow\">estimator: SVC</label><div class=\"sk-toggleable__content\"><pre>SVC(class_weight={0: 0.37309417040358744, 1: 0.9043478260869565,\n",
       "                  2: 1.1885714285714286, 3: 4.622222222222222, 4: 6.4},\n",
       "    probability=True, random_state=42)</pre></div></div></div><div class=\"sk-serial\"><div class=\"sk-item\"><div class=\"sk-estimator sk-toggleable\"><input class=\"sk-toggleable__control sk-hidden--visually\" id=\"sk-estimator-id-18\" type=\"checkbox\" ><label for=\"sk-estimator-id-18\" class=\"sk-toggleable__label sk-toggleable__label-arrow\">SVC</label><div class=\"sk-toggleable__content\"><pre>SVC(class_weight={0: 0.37309417040358744, 1: 0.9043478260869565,\n",
       "                  2: 1.1885714285714286, 3: 4.622222222222222, 4: 6.4},\n",
       "    probability=True, random_state=42)</pre></div></div></div></div></div></div></div></div></div></div>"
      ],
      "text/plain": [
       "GridSearchCV(cv=StratifiedKFold(n_splits=5, random_state=None, shuffle=True),\n",
       "             estimator=SVC(class_weight={0: 0.37309417040358744,\n",
       "                                         1: 0.9043478260869565,\n",
       "                                         2: 1.1885714285714286,\n",
       "                                         3: 4.622222222222222, 4: 6.4},\n",
       "                           probability=True, random_state=42),\n",
       "             n_jobs=-1,\n",
       "             param_grid={'C': [1, 50, 100], 'gamma': [0.001, 0.01, 0.1, 1],\n",
       "                         'kernel': ['rbf']},\n",
       "             scoring=<function mean_recall at 0x7fd1483fa0d0>, verbose=1)"
      ]
     },
     "execution_count": 78,
     "metadata": {},
     "output_type": "execute_result"
    }
   ],
   "source": [
    "random_state = 42\n",
    "svm = SVC(probability=True,random_state=random_state,class_weight=dict(enumerate(class_weights)))\n",
    "kfold = StratifiedKFold(n_splits=5,shuffle=True)\n",
    "svc_param_grid = {'kernel': ['rbf'], \n",
    "      'gamma': [ 0.001,0.01, 0.1, 1],\n",
    "      'C': [1,50,100]}\n",
    "gsSVMC = GridSearchCV(svm,param_grid = svc_param_grid, cv=kfold, scoring=mean_recall, n_jobs= -1, verbose = 1)\n",
    "gsSVMC.fit(X_train,y_train.squeeze())"
   ]
  },
  {
   "cell_type": "code",
   "execution_count": 79,
   "metadata": {},
   "outputs": [
    {
     "data": {
      "text/plain": [
       "({'C': 1, 'gamma': 0.01, 'kernel': 'rbf'}, 0.43002886002886004)"
      ]
     },
     "execution_count": 79,
     "metadata": {},
     "output_type": "execute_result"
    }
   ],
   "source": [
    "gsSVMC.best_params_,gsSVMC.best_score_"
   ]
  },
  {
   "cell_type": "code",
   "execution_count": 80,
   "metadata": {},
   "outputs": [
    {
     "data": {
      "text/plain": [
       "0.6059566709566708"
      ]
     },
     "execution_count": 80,
     "metadata": {},
     "output_type": "execute_result"
    }
   ],
   "source": [
    "mean_recall(gsSVMC,X_val,y_val)"
   ]
  },
  {
   "cell_type": "code",
   "execution_count": 81,
   "metadata": {},
   "outputs": [],
   "source": [
    "best_svm = gsSVMC.best_estimator_"
   ]
  },
  {
   "cell_type": "markdown",
   "metadata": {},
   "source": [
    "## Tabnet"
   ]
  },
  {
   "cell_type": "code",
   "execution_count": 85,
   "metadata": {},
   "outputs": [],
   "source": [
    "class Recall_M(Metric):\n",
    "    def __init__(self):\n",
    "        self._name = \"recall\"\n",
    "        self._maximize = True\n",
    "\n",
    "    def __call__(self, y_true, y_score):\n",
    "        y_score = np.argmax(y_score,axis=1)\n",
    "        results_recall = recall_score(y_true, y_score, average=None).mean()\n",
    "        return results_recall\n",
    "class F1(Metric):\n",
    "    def __init__(self):\n",
    "        self._name = \"F1_score\"\n",
    "        self._maximize = True\n",
    "\n",
    "    def __call__(self, y_true, y_score):\n",
    "        y_score = np.argmax(y_score,axis=1)\n",
    "        res = f1_score(y_true,y_score,average='macro')\n",
    "        return res"
   ]
  },
  {
   "cell_type": "code",
   "execution_count": 86,
   "metadata": {
    "scrolled": true,
    "tags": []
   },
   "outputs": [
    {
     "name": "stderr",
     "output_type": "stream",
     "text": [
      "/home/samuel/.conda/envs/aicup/lib/python3.8/site-packages/pytorch_tabnet/abstract_model.py:75: UserWarning: Device used : cuda\n",
      "  warnings.warn(f\"Device used : {self.device}\")\n"
     ]
    },
    {
     "name": "stdout",
     "output_type": "stream",
     "text": [
      "epoch 0  | loss: 1.84789 | train_recall: 0.21077 | train_accuracy: 0.22837 | train_F1_score: 0.15748 | valid_recall: 0.25348 | valid_accuracy: 0.23077 | valid_F1_score: 0.17491 |  0:00:01s\n",
      "epoch 1  | loss: 1.71058 | train_recall: 0.22598 | train_accuracy: 0.1899  | train_F1_score: 0.13974 | valid_recall: 0.26068 | valid_accuracy: 0.21893 | valid_F1_score: 0.19924 |  0:00:02s\n",
      "epoch 2  | loss: 1.63892 | train_recall: 0.21533 | train_accuracy: 0.19471 | train_F1_score: 0.15885 | valid_recall: 0.15418 | valid_accuracy: 0.15976 | valid_F1_score: 0.1372  |  0:00:03s\n",
      "epoch 3  | loss: 1.62113 | train_recall: 0.30119 | train_accuracy: 0.375   | train_F1_score: 0.2684  | valid_recall: 0.26408 | valid_accuracy: 0.36686 | valid_F1_score: 0.26597 |  0:00:04s\n",
      "epoch 4  | loss: 1.60538 | train_recall: 0.26027 | train_accuracy: 0.29808 | train_F1_score: 0.18189 | valid_recall: 0.27461 | valid_accuracy: 0.32544 | valid_F1_score: 0.19105 |  0:00:05s\n",
      "epoch 5  | loss: 1.58183 | train_recall: 0.24919 | train_accuracy: 0.1899  | train_F1_score: 0.19757 | valid_recall: 0.251   | valid_accuracy: 0.2071  | valid_F1_score: 0.19325 |  0:00:06s\n",
      "epoch 6  | loss: 1.57961 | train_recall: 0.25809 | train_accuracy: 0.42788 | train_F1_score: 0.27794 | valid_recall: 0.37064 | valid_accuracy: 0.50296 | valid_F1_score: 0.34224 |  0:00:07s\n",
      "epoch 7  | loss: 1.56451 | train_recall: 0.29592 | train_accuracy: 0.23317 | train_F1_score: 0.20251 | valid_recall: 0.33242 | valid_accuracy: 0.25444 | valid_F1_score: 0.2261  |  0:00:07s\n",
      "epoch 8  | loss: 1.55301 | train_recall: 0.30922 | train_accuracy: 0.24038 | train_F1_score: 0.21483 | valid_recall: 0.20017 | valid_accuracy: 0.21893 | valid_F1_score: 0.16138 |  0:00:08s\n",
      "epoch 9  | loss: 1.53556 | train_recall: 0.31983 | train_accuracy: 0.26442 | train_F1_score: 0.23331 | valid_recall: 0.26412 | valid_accuracy: 0.27811 | valid_F1_score: 0.23732 |  0:00:09s\n",
      "epoch 10 | loss: 1.50871 | train_recall: 0.3527  | train_accuracy: 0.61538 | train_F1_score: 0.33332 | valid_recall: 0.3433  | valid_accuracy: 0.60355 | valid_F1_score: 0.32451 |  0:00:10s\n",
      "epoch 11 | loss: 1.50383 | train_recall: 0.38883 | train_accuracy: 0.60096 | train_F1_score: 0.37537 | valid_recall: 0.35613 | valid_accuracy: 0.59763 | valid_F1_score: 0.3313  |  0:00:11s\n",
      "epoch 12 | loss: 1.51139 | train_recall: 0.39177 | train_accuracy: 0.58894 | train_F1_score: 0.37303 | valid_recall: 0.39838 | valid_accuracy: 0.55621 | valid_F1_score: 0.39323 |  0:00:12s\n",
      "epoch 13 | loss: 1.49019 | train_recall: 0.35517 | train_accuracy: 0.49038 | train_F1_score: 0.30049 | valid_recall: 0.31357 | valid_accuracy: 0.45562 | valid_F1_score: 0.2649  |  0:00:13s\n",
      "epoch 14 | loss: 1.46058 | train_recall: 0.36494 | train_accuracy: 0.3149  | train_F1_score: 0.26855 | valid_recall: 0.28389 | valid_accuracy: 0.27811 | valid_F1_score: 0.21724 |  0:00:14s\n",
      "epoch 15 | loss: 1.48064 | train_recall: 0.46239 | train_accuracy: 0.4399  | train_F1_score: 0.3647  | valid_recall: 0.37652 | valid_accuracy: 0.39053 | valid_F1_score: 0.319   |  0:00:15s\n",
      "epoch 16 | loss: 1.5     | train_recall: 0.39189 | train_accuracy: 0.3125  | train_F1_score: 0.29299 | valid_recall: 0.36642 | valid_accuracy: 0.28994 | valid_F1_score: 0.26782 |  0:00:16s\n",
      "epoch 17 | loss: 1.42594 | train_recall: 0.44401 | train_accuracy: 0.44712 | train_F1_score: 0.34849 | valid_recall: 0.40458 | valid_accuracy: 0.40828 | valid_F1_score: 0.32262 |  0:00:17s\n",
      "epoch 18 | loss: 1.44646 | train_recall: 0.41372 | train_accuracy: 0.35337 | train_F1_score: 0.30891 | valid_recall: 0.42501 | valid_accuracy: 0.3787  | valid_F1_score: 0.33966 |  0:00:18s\n",
      "epoch 19 | loss: 1.44282 | train_recall: 0.43191 | train_accuracy: 0.45673 | train_F1_score: 0.33662 | valid_recall: 0.36815 | valid_accuracy: 0.43195 | valid_F1_score: 0.29472 |  0:00:19s\n",
      "epoch 20 | loss: 1.40095 | train_recall: 0.36316 | train_accuracy: 0.21875 | train_F1_score: 0.2138  | valid_recall: 0.3196  | valid_accuracy: 0.21893 | valid_F1_score: 0.22195 |  0:00:20s\n",
      "epoch 21 | loss: 1.41577 | train_recall: 0.39259 | train_accuracy: 0.34615 | train_F1_score: 0.30175 | valid_recall: 0.37987 | valid_accuracy: 0.3432  | valid_F1_score: 0.30431 |  0:00:21s\n",
      "epoch 22 | loss: 1.43154 | train_recall: 0.41127 | train_accuracy: 0.29327 | train_F1_score: 0.28749 | valid_recall: 0.35389 | valid_accuracy: 0.30178 | valid_F1_score: 0.29606 |  0:00:22s\n",
      "epoch 23 | loss: 1.41258 | train_recall: 0.43157 | train_accuracy: 0.48077 | train_F1_score: 0.36199 | valid_recall: 0.38277 | valid_accuracy: 0.44379 | valid_F1_score: 0.3563  |  0:00:22s\n",
      "epoch 24 | loss: 1.37828 | train_recall: 0.43863 | train_accuracy: 0.5024  | train_F1_score: 0.36138 | valid_recall: 0.34069 | valid_accuracy: 0.42012 | valid_F1_score: 0.28446 |  0:00:23s\n",
      "epoch 25 | loss: 1.39985 | train_recall: 0.45779 | train_accuracy: 0.42548 | train_F1_score: 0.35556 | valid_recall: 0.40902 | valid_accuracy: 0.42604 | valid_F1_score: 0.35728 |  0:00:24s\n",
      "epoch 26 | loss: 1.41388 | train_recall: 0.43644 | train_accuracy: 0.58654 | train_F1_score: 0.40498 | valid_recall: 0.34958 | valid_accuracy: 0.52071 | valid_F1_score: 0.35083 |  0:00:25s\n",
      "epoch 27 | loss: 1.45893 | train_recall: 0.52266 | train_accuracy: 0.50962 | train_F1_score: 0.43411 | valid_recall: 0.42513 | valid_accuracy: 0.49112 | valid_F1_score: 0.39397 |  0:00:26s\n",
      "epoch 28 | loss: 1.38471 | train_recall: 0.49291 | train_accuracy: 0.4351  | train_F1_score: 0.34198 | valid_recall: 0.39052 | valid_accuracy: 0.3787  | valid_F1_score: 0.29397 |  0:00:27s\n",
      "epoch 29 | loss: 1.3554  | train_recall: 0.48588 | train_accuracy: 0.5024  | train_F1_score: 0.41374 | valid_recall: 0.47239 | valid_accuracy: 0.50888 | valid_F1_score: 0.42704 |  0:00:28s\n",
      "epoch 30 | loss: 1.37769 | train_recall: 0.45158 | train_accuracy: 0.45192 | train_F1_score: 0.34841 | valid_recall: 0.42532 | valid_accuracy: 0.42012 | valid_F1_score: 0.34288 |  0:00:29s\n",
      "epoch 31 | loss: 1.41101 | train_recall: 0.47237 | train_accuracy: 0.50721 | train_F1_score: 0.39776 | valid_recall: 0.46565 | valid_accuracy: 0.43195 | valid_F1_score: 0.37065 |  0:00:30s\n",
      "epoch 32 | loss: 1.29492 | train_recall: 0.45058 | train_accuracy: 0.48798 | train_F1_score: 0.37265 | valid_recall: 0.34491 | valid_accuracy: 0.42604 | valid_F1_score: 0.33106 |  0:00:31s\n",
      "epoch 33 | loss: 1.25511 | train_recall: 0.52283 | train_accuracy: 0.55529 | train_F1_score: 0.45092 | valid_recall: 0.45946 | valid_accuracy: 0.50888 | valid_F1_score: 0.41017 |  0:00:32s\n",
      "epoch 34 | loss: 1.34493 | train_recall: 0.5178  | train_accuracy: 0.4976  | train_F1_score: 0.39971 | valid_recall: 0.39778 | valid_accuracy: 0.40828 | valid_F1_score: 0.32817 |  0:00:33s\n",
      "epoch 35 | loss: 1.30006 | train_recall: 0.53279 | train_accuracy: 0.54808 | train_F1_score: 0.44698 | valid_recall: 0.4832  | valid_accuracy: 0.50296 | valid_F1_score: 0.43115 |  0:00:34s\n",
      "epoch 36 | loss: 1.33024 | train_recall: 0.55827 | train_accuracy: 0.50721 | train_F1_score: 0.43329 | valid_recall: 0.41144 | valid_accuracy: 0.45562 | valid_F1_score: 0.37609 |  0:00:35s\n",
      "epoch 37 | loss: 1.27162 | train_recall: 0.57493 | train_accuracy: 0.51923 | train_F1_score: 0.42872 | valid_recall: 0.45663 | valid_accuracy: 0.50888 | valid_F1_score: 0.39535 |  0:00:36s\n",
      "epoch 38 | loss: 1.4218  | train_recall: 0.47797 | train_accuracy: 0.46154 | train_F1_score: 0.31992 | valid_recall: 0.3915  | valid_accuracy: 0.44379 | valid_F1_score: 0.28912 |  0:00:36s\n",
      "epoch 39 | loss: 1.29485 | train_recall: 0.55374 | train_accuracy: 0.55048 | train_F1_score: 0.4373  | valid_recall: 0.49615 | valid_accuracy: 0.54438 | valid_F1_score: 0.4217  |  0:00:37s\n",
      "epoch 40 | loss: 1.31853 | train_recall: 0.48374 | train_accuracy: 0.5601  | train_F1_score: 0.42559 | valid_recall: 0.39028 | valid_accuracy: 0.5503  | valid_F1_score: 0.37265 |  0:00:38s\n",
      "epoch 41 | loss: 1.30155 | train_recall: 0.51197 | train_accuracy: 0.49279 | train_F1_score: 0.39972 | valid_recall: 0.45762 | valid_accuracy: 0.49112 | valid_F1_score: 0.40108 |  0:00:39s\n",
      "epoch 42 | loss: 1.3298  | train_recall: 0.54626 | train_accuracy: 0.5601  | train_F1_score: 0.44066 | valid_recall: 0.49315 | valid_accuracy: 0.53254 | valid_F1_score: 0.42036 |  0:00:40s\n",
      "epoch 43 | loss: 1.27058 | train_recall: 0.49532 | train_accuracy: 0.53606 | train_F1_score: 0.41739 | valid_recall: 0.39083 | valid_accuracy: 0.49112 | valid_F1_score: 0.35769 |  0:00:41s\n",
      "epoch 44 | loss: 1.26503 | train_recall: 0.56781 | train_accuracy: 0.50481 | train_F1_score: 0.4159  | valid_recall: 0.38781 | valid_accuracy: 0.44379 | valid_F1_score: 0.34414 |  0:00:42s\n",
      "epoch 45 | loss: 1.2471  | train_recall: 0.60417 | train_accuracy: 0.56731 | train_F1_score: 0.47197 | valid_recall: 0.42875 | valid_accuracy: 0.4497  | valid_F1_score: 0.36627 |  0:00:43s\n",
      "epoch 46 | loss: 1.22088 | train_recall: 0.55534 | train_accuracy: 0.53125 | train_F1_score: 0.44764 | valid_recall: 0.38625 | valid_accuracy: 0.44379 | valid_F1_score: 0.3428  |  0:00:44s\n",
      "epoch 47 | loss: 1.31145 | train_recall: 0.55592 | train_accuracy: 0.55288 | train_F1_score: 0.43014 | valid_recall: 0.32594 | valid_accuracy: 0.43787 | valid_F1_score: 0.31223 |  0:00:45s\n",
      "epoch 48 | loss: 1.29237 | train_recall: 0.50491 | train_accuracy: 0.46875 | train_F1_score: 0.3835  | valid_recall: 0.27952 | valid_accuracy: 0.38462 | valid_F1_score: 0.26663 |  0:00:46s\n",
      "epoch 49 | loss: 1.25706 | train_recall: 0.50831 | train_accuracy: 0.54327 | train_F1_score: 0.42617 | valid_recall: 0.31843 | valid_accuracy: 0.43195 | valid_F1_score: 0.29696 |  0:00:47s\n",
      "epoch 50 | loss: 1.28071 | train_recall: 0.5869  | train_accuracy: 0.57933 | train_F1_score: 0.475   | valid_recall: 0.36403 | valid_accuracy: 0.46746 | valid_F1_score: 0.37013 |  0:00:48s\n",
      "epoch 51 | loss: 1.23651 | train_recall: 0.57919 | train_accuracy: 0.54808 | train_F1_score: 0.47497 | valid_recall: 0.38593 | valid_accuracy: 0.47337 | valid_F1_score: 0.35893 |  0:00:49s\n",
      "epoch 52 | loss: 1.26247 | train_recall: 0.55528 | train_accuracy: 0.47356 | train_F1_score: 0.41146 | valid_recall: 0.39789 | valid_accuracy: 0.44379 | valid_F1_score: 0.35554 |  0:00:50s\n",
      "epoch 53 | loss: 1.21459 | train_recall: 0.5767  | train_accuracy: 0.51202 | train_F1_score: 0.42382 | valid_recall: 0.41297 | valid_accuracy: 0.49704 | valid_F1_score: 0.37697 |  0:00:51s\n",
      "epoch 54 | loss: 1.22345 | train_recall: 0.61718 | train_accuracy: 0.4976  | train_F1_score: 0.4297  | valid_recall: 0.42341 | valid_accuracy: 0.4497  | valid_F1_score: 0.35369 |  0:00:51s\n",
      "epoch 55 | loss: 1.22354 | train_recall: 0.62704 | train_accuracy: 0.58894 | train_F1_score: 0.49724 | valid_recall: 0.42101 | valid_accuracy: 0.49704 | valid_F1_score: 0.38736 |  0:00:52s\n",
      "epoch 56 | loss: 1.24328 | train_recall: 0.53561 | train_accuracy: 0.58413 | train_F1_score: 0.47285 | valid_recall: 0.342   | valid_accuracy: 0.49704 | valid_F1_score: 0.33978 |  0:00:53s\n",
      "epoch 57 | loss: 1.24346 | train_recall: 0.56526 | train_accuracy: 0.52404 | train_F1_score: 0.44625 | valid_recall: 0.36534 | valid_accuracy: 0.46154 | valid_F1_score: 0.33535 |  0:00:54s\n",
      "epoch 58 | loss: 1.14319 | train_recall: 0.62392 | train_accuracy: 0.55769 | train_F1_score: 0.47144 | valid_recall: 0.39967 | valid_accuracy: 0.4497  | valid_F1_score: 0.3611  |  0:00:55s\n",
      "epoch 59 | loss: 1.21447 | train_recall: 0.58911 | train_accuracy: 0.50481 | train_F1_score: 0.42927 | valid_recall: 0.38963 | valid_accuracy: 0.42604 | valid_F1_score: 0.34004 |  0:00:56s\n",
      "epoch 60 | loss: 1.18779 | train_recall: 0.6114  | train_accuracy: 0.52404 | train_F1_score: 0.43762 | valid_recall: 0.37049 | valid_accuracy: 0.46154 | valid_F1_score: 0.33624 |  0:00:57s\n",
      "epoch 61 | loss: 1.21557 | train_recall: 0.57529 | train_accuracy: 0.54567 | train_F1_score: 0.44068 | valid_recall: 0.33942 | valid_accuracy: 0.42604 | valid_F1_score: 0.3037  |  0:00:58s\n",
      "epoch 62 | loss: 1.20682 | train_recall: 0.58789 | train_accuracy: 0.60337 | train_F1_score: 0.50566 | valid_recall: 0.3842  | valid_accuracy: 0.49112 | valid_F1_score: 0.36251 |  0:00:59s\n",
      "epoch 63 | loss: 1.24099 | train_recall: 0.60139 | train_accuracy: 0.59135 | train_F1_score: 0.48398 | valid_recall: 0.35699 | valid_accuracy: 0.47337 | valid_F1_score: 0.3339  |  0:01:00s\n",
      "epoch 64 | loss: 1.20051 | train_recall: 0.6013  | train_accuracy: 0.59135 | train_F1_score: 0.47896 | valid_recall: 0.41598 | valid_accuracy: 0.52663 | valid_F1_score: 0.39544 |  0:01:01s\n",
      "epoch 65 | loss: 1.19617 | train_recall: 0.61562 | train_accuracy: 0.52644 | train_F1_score: 0.41962 | valid_recall: 0.3926  | valid_accuracy: 0.46746 | valid_F1_score: 0.33335 |  0:01:02s\n",
      "epoch 66 | loss: 1.22434 | train_recall: 0.59505 | train_accuracy: 0.59615 | train_F1_score: 0.50217 | valid_recall: 0.41945 | valid_accuracy: 0.5503  | valid_F1_score: 0.40131 |  0:01:03s\n",
      "epoch 67 | loss: 1.24588 | train_recall: 0.61036 | train_accuracy: 0.63942 | train_F1_score: 0.52631 | valid_recall: 0.43152 | valid_accuracy: 0.57396 | valid_F1_score: 0.41912 |  0:01:04s\n",
      "epoch 68 | loss: 1.22254 | train_recall: 0.61425 | train_accuracy: 0.55529 | train_F1_score: 0.47942 | valid_recall: 0.4147  | valid_accuracy: 0.50296 | valid_F1_score: 0.38504 |  0:01:05s\n",
      "epoch 69 | loss: 1.16885 | train_recall: 0.59106 | train_accuracy: 0.46635 | train_F1_score: 0.39474 | valid_recall: 0.38641 | valid_accuracy: 0.43787 | valid_F1_score: 0.31705 |  0:01:06s\n",
      "epoch 70 | loss: 1.19041 | train_recall: 0.58231 | train_accuracy: 0.51683 | train_F1_score: 0.42782 | valid_recall: 0.39097 | valid_accuracy: 0.50296 | valid_F1_score: 0.3505  |  0:01:06s\n",
      "epoch 71 | loss: 1.11134 | train_recall: 0.60268 | train_accuracy: 0.56971 | train_F1_score: 0.49398 | valid_recall: 0.42893 | valid_accuracy: 0.50888 | valid_F1_score: 0.38238 |  0:01:07s\n",
      "epoch 72 | loss: 1.1735  | train_recall: 0.57962 | train_accuracy: 0.52404 | train_F1_score: 0.43041 | valid_recall: 0.40357 | valid_accuracy: 0.45562 | valid_F1_score: 0.35128 |  0:01:08s\n",
      "epoch 73 | loss: 1.19505 | train_recall: 0.63593 | train_accuracy: 0.53606 | train_F1_score: 0.47182 | valid_recall: 0.41154 | valid_accuracy: 0.4497  | valid_F1_score: 0.36795 |  0:01:09s\n",
      "epoch 74 | loss: 1.21377 | train_recall: 0.60966 | train_accuracy: 0.52644 | train_F1_score: 0.46868 | valid_recall: 0.36227 | valid_accuracy: 0.43195 | valid_F1_score: 0.31929 |  0:01:10s\n",
      "epoch 75 | loss: 1.22031 | train_recall: 0.59073 | train_accuracy: 0.58173 | train_F1_score: 0.4557  | valid_recall: 0.44181 | valid_accuracy: 0.56805 | valid_F1_score: 0.39774 |  0:01:11s\n",
      "epoch 76 | loss: 1.18368 | train_recall: 0.58402 | train_accuracy: 0.53846 | train_F1_score: 0.43322 | valid_recall: 0.36144 | valid_accuracy: 0.50296 | valid_F1_score: 0.35136 |  0:01:12s\n",
      "epoch 77 | loss: 1.27178 | train_recall: 0.62698 | train_accuracy: 0.58894 | train_F1_score: 0.49461 | valid_recall: 0.36096 | valid_accuracy: 0.49704 | valid_F1_score: 0.34338 |  0:01:13s\n",
      "epoch 78 | loss: 1.2186  | train_recall: 0.55682 | train_accuracy: 0.46394 | train_F1_score: 0.39516 | valid_recall: 0.33033 | valid_accuracy: 0.39645 | valid_F1_score: 0.27574 |  0:01:14s\n",
      "epoch 79 | loss: 1.18554 | train_recall: 0.66772 | train_accuracy: 0.52404 | train_F1_score: 0.47473 | valid_recall: 0.38567 | valid_accuracy: 0.42012 | valid_F1_score: 0.33923 |  0:01:15s\n",
      "epoch 80 | loss: 1.18369 | train_recall: 0.58824 | train_accuracy: 0.60337 | train_F1_score: 0.5044  | valid_recall: 0.43879 | valid_accuracy: 0.54438 | valid_F1_score: 0.40188 |  0:01:16s\n",
      "epoch 81 | loss: 1.14515 | train_recall: 0.56553 | train_accuracy: 0.53365 | train_F1_score: 0.45365 | valid_recall: 0.4016  | valid_accuracy: 0.46154 | valid_F1_score: 0.3623  |  0:01:17s\n",
      "epoch 82 | loss: 1.13312 | train_recall: 0.62655 | train_accuracy: 0.63221 | train_F1_score: 0.53878 | valid_recall: 0.46178 | valid_accuracy: 0.59172 | valid_F1_score: 0.42771 |  0:01:18s\n",
      "epoch 83 | loss: 1.20008 | train_recall: 0.61128 | train_accuracy: 0.56971 | train_F1_score: 0.49258 | valid_recall: 0.44536 | valid_accuracy: 0.54438 | valid_F1_score: 0.42238 |  0:01:19s\n",
      "epoch 84 | loss: 1.11717 | train_recall: 0.59392 | train_accuracy: 0.59375 | train_F1_score: 0.50886 | valid_recall: 0.41842 | valid_accuracy: 0.51479 | valid_F1_score: 0.38768 |  0:01:20s\n",
      "epoch 85 | loss: 1.11885 | train_recall: 0.65992 | train_accuracy: 0.61779 | train_F1_score: 0.52181 | valid_recall: 0.46486 | valid_accuracy: 0.57396 | valid_F1_score: 0.42156 |  0:01:20s\n",
      "\n",
      "Early stopping occurred at epoch 85 with best_epoch = 35 and best_valid_F1_score = 0.43115\n"
     ]
    },
    {
     "name": "stderr",
     "output_type": "stream",
     "text": [
      "/home/samuel/.conda/envs/aicup/lib/python3.8/site-packages/pytorch_tabnet/callbacks.py:172: UserWarning: Best weights from best epoch are automatically used!\n",
      "  warnings.warn(wrn_msg)\n"
     ]
    }
   ],
   "source": [
    "import torch\n",
    "if isinstance(X_val, pd.DataFrame):\n",
    "    X_train, y_train = X_train.values, y_train.values\n",
    "    X_val, y_val = X_val.values, y_val.values\n",
    "tb_cls = TabNetClassifier(optimizer_fn=torch.optim.AdamW,\n",
    "                       optimizer_params=dict(lr=1e-2),\n",
    "                       scheduler_params={\"step_size\":40, \"gamma\":0.9},\n",
    "                       scheduler_fn=torch.optim.lr_scheduler.StepLR,\n",
    "                       mask_type='entmax', # \"sparsemax\"\n",
    "                       device_name = \"cuda\" if torch.cuda.is_available() else \"cpu\"   \n",
    "                       )\n",
    "res = tb_cls.fit(X_train,y_train.squeeze(),\n",
    "               eval_set=[(X_train, y_train.squeeze()), (X_val, y_val.squeeze())],\n",
    "               eval_name=['train', 'valid'],\n",
    "               eval_metric=[Recall_M,\"accuracy\",F1],\n",
    "                weights={0:class_weights[0],1:class_weights[1],2:class_weights[2],3:class_weights[3],4:class_weights[4]},\n",
    "               max_epochs=1000 , patience=50,\n",
    "               batch_size=4, drop_last=True)   "
   ]
  },
  {
   "cell_type": "code",
   "execution_count": 87,
   "metadata": {},
   "outputs": [
    {
     "data": {
      "text/plain": [
       "0.4831960531960532"
      ]
     },
     "execution_count": 87,
     "metadata": {},
     "output_type": "execute_result"
    }
   ],
   "source": [
    "mean_recall(tb_cls,X_val,y_val)"
   ]
  },
  {
   "cell_type": "code",
   "execution_count": 93,
   "metadata": {},
   "outputs": [
    {
     "data": {
      "text/plain": [
       "<Axes: >"
      ]
     },
     "execution_count": 93,
     "metadata": {},
     "output_type": "execute_result"
    },
    {
     "data": {
      "image/png": "[encoded data removed]",
      "text/plain": [
       "<Figure size 640x480 with 1 Axes>"
      ]
     },
     "metadata": {},
     "output_type": "display_data"
    }
   ],
   "source": [
    "df = pd.DataFrame(tb_cls.feature_importances_,columns=[\"feature importance\"])\n",
    "df.plot(kind='bar')"
   ]
  },
  {
   "cell_type": "code",
   "execution_count": null,
   "metadata": {},
   "outputs": [],
   "source": [
    "final_model = best_svm\n",
    "dump(final_model, 'final_model.joblib')"
   ]
  },
  {
   "cell_type": "markdown",
   "metadata": {
    "id": "ncqYUA04-Bt-"
   },
   "source": [
    "## 訓練資料預測結果"
   ]
  },
  {
   "cell_type": "code",
   "execution_count": 109,
   "metadata": {
    "id": "hsNpfk26-Bt-",
    "outputId": "3849de1e-391f-49a4-8e68-18a0459a013a"
   },
   "outputs": [
    {
     "name": "stdout",
     "output_type": "stream",
     "text": [
      "Training UAR(Unweighted Average Recall) : 0.6307427634430949\n"
     ]
    },
    {
     "name": "stderr",
     "output_type": "stream",
     "text": [
      "/home/samuel/.conda/envs/aicup/lib/python3.8/site-packages/sklearn/base.py:439: UserWarning: X does not have valid feature names, but SVC was fitted with feature names\n",
      "  warnings.warn(\n"
     ]
    },
    {
     "data": {
      "text/plain": [
       "<sklearn.metrics._plot.confusion_matrix.ConfusionMatrixDisplay at 0x7fd130486850>"
      ]
     },
     "execution_count": 109,
     "metadata": {},
     "output_type": "execute_result"
    },
    {
     "data": {
      "image/png": "[encoded data removed]",
      "text/plain": [
       "<Figure size 640x480 with 2 Axes>"
      ]
     },
     "metadata": {},
     "output_type": "display_data"
    }
   ],
   "source": [
    "y_true = training_df['Disease category']\n",
    "y_pred = final_model.predict(X_train)\n",
    "training_id = training_df['ID'].tolist()\n",
    "results_recall = recall_score(y_true.squeeze(), y_pred, average=None)\n",
    "print(\"Training UAR(Unweighted Average Recall) :\", results_recall.mean())\n",
    "\n",
    "cm = confusion_matrix(y_true, y_pred)\n",
    "\n",
    "ConfusionMatrixDisplay(confusion_matrix(y_true, y_pred)).plot(cmap='Blues')"
   ]
  },
  {
   "cell_type": "markdown",
   "metadata": {
    "id": "c98Pp2iB-Bt_"
   },
   "source": [
    "# 驗證資料測試結果"
   ]
  },
  {
   "cell_type": "code",
   "execution_count": 108,
   "metadata": {
    "id": "L-labapo-Bt_",
    "outputId": "7597ca94-bc1b-4103-bb3f-f476dbf0ae67"
   },
   "outputs": [
    {
     "name": "stdout",
     "output_type": "stream",
     "text": [
      "Test UAR(Unweighted Average Recall) : 0.6059566709566708\n"
     ]
    },
    {
     "name": "stderr",
     "output_type": "stream",
     "text": [
      "/home/samuel/.conda/envs/aicup/lib/python3.8/site-packages/sklearn/base.py:439: UserWarning: X does not have valid feature names, but SVC was fitted with feature names\n",
      "  warnings.warn(\n"
     ]
    },
    {
     "data": {
      "text/plain": [
       "<sklearn.metrics._plot.confusion_matrix.ConfusionMatrixDisplay at 0x7fd13057e2b0>"
      ]
     },
     "execution_count": 108,
     "metadata": {},
     "output_type": "execute_result"
    },
    {
     "data": {
      "image/png": "[encoded data removed]",
      "text/plain": [
       "<Figure size 640x480 with 2 Axes>"
      ]
     },
     "metadata": {},
     "output_type": "display_data"
    }
   ],
   "source": [
    "y_true = test_df['Disease category'] \n",
    "\n",
    "y_pred = final_model.predict(X_val)\n",
    "training_id = test_df['ID'].tolist()\n",
    "\n",
    "results_recall = recall_score(y_true.squeeze(), y_pred, average=None)\n",
    "print(\"Test UAR(Unweighted Average Recall) :\", results_recall.mean())\n",
    "\n",
    "ConfusionMatrixDisplay(confusion_matrix(y_true, y_pred)).plot(cmap='Blues')"
   ]
  }
 ],
 "metadata": {
  "colab": {
   "provenance": []
  },
  "kernelspec": {
   "display_name": "Python [conda env:.conda-aicup]",
   "language": "python",
   "name": "conda-env-.conda-aicup-py"
  },
  "language_info": {
   "codemirror_mode": {
    "name": "ipython",
    "version": 3
   },
   "file_extension": ".py",
   "mimetype": "text/x-python",
   "name": "python",
   "nbconvert_exporter": "python",
   "pygments_lexer": "ipython3",
   "version": "3.8.16"
  },
  "vscode": {
   "interpreter": {
    "hash": "f97432c16914304dbd818b138841742b9483a5a148ca981647dc7438178b3282"
   }
  }
 },
 "nbformat": 4,
 "nbformat_minor": 4
}
