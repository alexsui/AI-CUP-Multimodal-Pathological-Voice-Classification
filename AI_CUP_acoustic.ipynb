{
 "cells": [
  {
   "cell_type": "markdown",
   "metadata": {
    "id": "Bmpu6ph00f8a"
   },
   "source": [
    "# 載入套件"
   ]
  },
  {
   "cell_type": "code",
   "execution_count": 1,
   "metadata": {
    "executionInfo": {
     "elapsed": 3201,
     "status": "ok",
     "timestamp": 1679112633445,
     "user": {
      "displayName": "Nien-Ting Lee",
      "userId": "13054204329208761386"
     },
     "user_tz": -480
    },
    "id": "L-ZQpiZ20f8c"
   },
   "outputs": [
    {
     "name": "stderr",
     "output_type": "stream",
     "text": [
      "/home/samuel/.conda/envs/aicup/lib/python3.8/site-packages/tqdm/auto.py:21: TqdmWarning: IProgress not found. Please update jupyter and ipywidgets. See https://ipywidgets.readthedocs.io/en/stable/user_install.html\n",
      "  from .autonotebook import tqdm as notebook_tqdm\n"
     ]
    }
   ],
   "source": [
    "import numpy as np\n",
    "import pandas as pd\n",
    "import librosa\n",
    "import torch.nn as nn\n",
    "import torch\n",
    "import os \n",
    "from sklearn.metrics import confusion_matrix, ConfusionMatrixDisplay, recall_score\n",
    "import torch\n",
    "import transformers\n",
    "from transformers import AutoFeatureExtractor,AutoModelForAudioClassification,TrainingArguments, Trainer\n",
    "import datasets \n",
    "from audiomentations import Compose, AddGaussianNoise, TimeStretch, PitchShift, Shift\n",
    "import numpy as np\n",
    "import random"
   ]
  },
  {
   "cell_type": "code",
   "execution_count": 2,
   "metadata": {},
   "outputs": [],
   "source": [
    "seed = 42\n",
    "torch.manual_seed(seed)\n",
    "if torch.cuda.is_available():\n",
    "    torch.cuda.manual_seed_all(seed)\n",
    "np.random.seed(seed)\n",
    "random.seed(seed)\n",
    "torch.backends.cudnn.deterministic = True  \n",
    "torch.backends.cudnn.benchmark = False\n",
    "device = \"cuda\" if torch.cuda.is_available() else \"cpu\""
   ]
  },
  {
   "cell_type": "markdown",
   "metadata": {
    "tags": []
   },
   "source": [
    "# 資料路徑設定"
   ]
  },
  {
   "cell_type": "code",
   "execution_count": 3,
   "metadata": {},
   "outputs": [],
   "source": [
    "medical_file_name = './data/training datalist.csv'\n",
    "accoustic_folder=\"./data/training_voice_data/\""
   ]
  },
  {
   "cell_type": "markdown",
   "metadata": {
    "id": "t6rc2EnF0f8d"
   },
   "source": [
    "# 載入訓練資料"
   ]
  },
  {
   "cell_type": "code",
   "execution_count": 4,
   "metadata": {
    "colab": {
     "base_uri": "https://localhost:8080/"
    },
    "executionInfo": {
     "elapsed": 339,
     "status": "ok",
     "timestamp": 1679112779630,
     "user": {
      "displayName": "Nien-Ting Lee",
      "userId": "13054204329208761386"
     },
     "user_tz": -480
    },
    "id": "GBVn5Rft0f8d",
    "outputId": "feea3961-8d4d-45d2-c089-7d993ddcb979"
   },
   "outputs": [
    {
     "name": "stdout",
     "output_type": "stream",
     "text": [
      "source_df.shape : (1000, 28)\n",
      "source_df.columns : Index(['ID', 'Sex', 'Age', 'Disease category', 'Narrow pitch range',\n",
      "       'Decreased volume', 'Fatigue', 'Dryness', 'Lumping', 'heartburn',\n",
      "       'Choking', 'Eye dryness', 'PND', 'Smoking', 'PPD', 'Drinking',\n",
      "       'frequency', 'Diurnal pattern', 'Onset of dysphonia ', 'Noise at work',\n",
      "       'Occupational vocal demand', 'Diabetes', 'Hypertension', 'CAD',\n",
      "       'Head and Neck Cancer', 'Head injury', 'CVA',\n",
      "       'Voice handicap index - 10'],\n",
      "      dtype='object')\n"
     ]
    }
   ],
   "source": [
    "# 讀取訓練資料集表單\n",
    "source_df = pd.read_csv(medical_file_name)\n",
    "print(\"source_df.shape :\", source_df.shape)\n",
    "print(\"source_df.columns :\", source_df.columns)"
   ]
  },
  {
   "cell_type": "markdown",
   "metadata": {
    "id": "L6Lwo9Sb0f8e"
   },
   "source": [
    "# 資料前處理"
   ]
  },
  {
   "cell_type": "code",
   "execution_count": 5,
   "metadata": {
    "colab": {
     "base_uri": "https://localhost:8080/"
    },
    "executionInfo": {
     "elapsed": 261,
     "status": "ok",
     "timestamp": 1679112868535,
     "user": {
      "displayName": "Nien-Ting Lee",
      "userId": "13054204329208761386"
     },
     "user_tz": -480
    },
    "id": "ql3TRu1c0f8e",
    "outputId": "ee5484b2-c262-42c0-87ea-75e83fa9dc21"
   },
   "outputs": [
    {
     "name": "stdout",
     "output_type": "stream",
     "text": [
      "Disease category in source_df : [0 1 2 4 3]\n",
      "source_df :\n",
      "           ID  Disease category                                wav_path\n",
      "0    1202f15                 0  ./data/training_voice_data/1202f15.wav\n",
      "1    0600ve0                 1  ./data/training_voice_data/0600ve0.wav\n",
      "2    1001o7l                 1  ./data/training_voice_data/1001o7l.wav\n",
      "3    1201c1t                 0  ./data/training_voice_data/1201c1t.wav\n",
      "4    0402jvt                 0  ./data/training_voice_data/0402jvt.wav\n",
      "..       ...               ...                                     ...\n",
      "995  0G00ftn                 2  ./data/training_voice_data/0G00ftn.wav\n",
      "996  1201pkr                 3  ./data/training_voice_data/1201pkr.wav\n",
      "997  0202p64                 2  ./data/training_voice_data/0202p64.wav\n",
      "998  12021au                 1  ./data/training_voice_data/12021au.wav\n",
      "999  04027it                 1  ./data/training_voice_data/04027it.wav\n",
      "\n",
      "[1000 rows x 3 columns]\n"
     ]
    }
   ],
   "source": [
    "# 挑選出要訓練的Disease category 1、2、3\n",
    "source_df = source_df.loc[source_df['Disease category'].isin([1, 2, 3,4, 5]), ['ID', 'Disease category']]\n",
    "\n",
    "# 在dataframe中加入要訓練的音檔路徑\n",
    "source_df['wav_path'] = source_df['ID'].map(lambda x :f\"{accoustic_folder}{x}.wav\")\n",
    "source_df['Disease category'] = source_df['Disease category']-1 \n",
    "print(\"Disease category in source_df :\", source_df['Disease category'].unique())\n",
    "print(\"source_df :\\n\", source_df)"
   ]
  },
  {
   "cell_type": "code",
   "execution_count": 6,
   "metadata": {},
   "outputs": [],
   "source": [
    "res={\"audio\":[],\"class\":[]}\n",
    "for i,row in source_df.iterrows():\n",
    "    voice = librosa.load(row['wav_path'], sr=16000, offset=0)[0]\n",
    "    res[\"audio\"].append(voice)\n",
    "    res[\"class\"].append(row['Disease category'])"
   ]
  },
  {
   "cell_type": "markdown",
   "metadata": {},
   "source": [
    "## 訓練與驗證資料切分\n",
    "* 確保training data與testing data個類別的比例相同\n",
    "* 將training data分為兩部分first half與second half，前者用在first stage 訓練，後者用在second stage訓練"
   ]
  },
  {
   "cell_type": "code",
   "execution_count": 7,
   "metadata": {},
   "outputs": [],
   "source": [
    "df = pd.DataFrame(res)\n",
    "train_df = pd.DataFrame()\n",
    "test_df = pd.DataFrame()\n",
    "for i in range(0,5):\n",
    "    len_1=len(df[df['class']==i])\n",
    "    train_df = pd.concat([train_df,df[df['class']==i].iloc[:int(len_1/6*5),:]])\n",
    "    test_df = pd.concat([test_df,df[df['class']==i].iloc[int(len_1/6*5):,:]])"
   ]
  },
  {
   "cell_type": "code",
   "execution_count": 8,
   "metadata": {},
   "outputs": [],
   "source": [
    "train_df_first_half = pd.DataFrame()\n",
    "for i in range(0,5):\n",
    "    len_1=len(train_df[train_df['class']==i])\n",
    "    train_df_first_half = pd.concat([train_df_first_half,train_df[train_df['class']==i].iloc[:int(len_1/2),:]])"
   ]
  },
  {
   "cell_type": "code",
   "execution_count": 9,
   "metadata": {},
   "outputs": [
    {
     "data": {
      "text/plain": [
       "class\n",
       "0    90\n",
       "1    37\n",
       "2    28\n",
       "3     8\n",
       "4     6\n",
       "Name: count, dtype: int64"
      ]
     },
     "execution_count": 9,
     "metadata": {},
     "output_type": "execute_result"
    }
   ],
   "source": [
    "test_df['class'].value_counts()"
   ]
  },
  {
   "cell_type": "code",
   "execution_count": 10,
   "metadata": {},
   "outputs": [
    {
     "data": {
      "text/plain": [
       "class\n",
       "0    223\n",
       "1     91\n",
       "2     70\n",
       "3     18\n",
       "4     13\n",
       "Name: count, dtype: int64"
      ]
     },
     "execution_count": 10,
     "metadata": {},
     "output_type": "execute_result"
    }
   ],
   "source": [
    "train_df_first_half['class'].value_counts()"
   ]
  },
  {
   "cell_type": "code",
   "execution_count": 11,
   "metadata": {},
   "outputs": [],
   "source": [
    "train_df = train_df_first_half.sample(frac=1).reset_index(drop=True) #只取training前半段\n",
    "test_df = test_df.sample(frac=1).reset_index(drop=True)"
   ]
  },
  {
   "cell_type": "markdown",
   "metadata": {
    "tags": []
   },
   "source": [
    "### 轉換成huggingface dataset"
   ]
  },
  {
   "cell_type": "code",
   "execution_count": 12,
   "metadata": {},
   "outputs": [],
   "source": [
    "train_dataset = datasets.Dataset.from_pandas(train_df)\n",
    "test_dataset = datasets.Dataset.from_pandas(test_df)\n",
    "all_dataset = datasets.DatasetDict()\n",
    "all_dataset['train'] = train_dataset\n",
    "all_dataset['test'] = test_dataset"
   ]
  },
  {
   "cell_type": "markdown",
   "metadata": {
    "id": "_V-MWxQ00f8e",
    "tags": []
   },
   "source": [
    "# 訓練聲學特徵"
   ]
  },
  {
   "cell_type": "markdown",
   "metadata": {},
   "source": [
    "### voice data transform\n",
    "* data augmentation\n",
    "* 將 voice data經wave2vec feature extractor轉換"
   ]
  },
  {
   "cell_type": "code",
   "execution_count": 13,
   "metadata": {},
   "outputs": [
    {
     "name": "stderr",
     "output_type": "stream",
     "text": [
      "/home/samuel/.conda/envs/aicup/lib/python3.8/site-packages/transformers/configuration_utils.py:379: UserWarning: Passing `gradient_checkpointing` to a config initialization is deprecated and will be removed in v5 Transformers. Using `model.gradient_checkpointing_enable()` instead, or if you are using the `Trainer` API, pass `gradient_checkpointing=True` in your `TrainingArguments`.\n",
      "  warnings.warn(\n"
     ]
    }
   ],
   "source": [
    "feature_extractor= AutoFeatureExtractor.from_pretrained(\"facebook/wav2vec2-base\")\n",
    "augment = Compose([\n",
    "    # AddGaussianNoise(min_amplitude=0.001, max_amplitude=0.015, p=0.5),\n",
    "    TimeStretch(min_rate=0.8, max_rate=1.25, p=0.5),\n",
    "    PitchShift(min_semitones=-4, max_semitones=4, p=0.5), \n",
    "])\n",
    "\n",
    "def train_transform(examples):\n",
    "\n",
    "    audio_arrays = np.array(examples[\"audio\"],np.float32)\n",
    "    augmented_samples = augment(samples=audio_arrays, sample_rate=16000)\n",
    "    augmented_samples = augmented_samples.squeeze()\n",
    "    inputs = feature_extractor(\n",
    "        augmented_samples, sampling_rate=feature_extractor.sampling_rate, max_length=32000, truncation=True\n",
    "    )\n",
    "    inputs['label'] = examples['class']\n",
    "    return inputs\n",
    "def val_transform(examples):\n",
    "\n",
    "    audio_arrays = np.array(examples[\"audio\"],np.float32)\n",
    "    audio_arrays = audio_arrays.squeeze()\n",
    "    inputs = feature_extractor(\n",
    "        audio_arrays, sampling_rate=feature_extractor.sampling_rate, max_length=32000, truncation=True\n",
    "    )\n",
    "    inputs['label'] = examples['class']\n",
    "    return inputs"
   ]
  },
  {
   "cell_type": "code",
   "execution_count": 14,
   "metadata": {},
   "outputs": [],
   "source": [
    "all_dataset['train'].set_transform(train_transform)\n",
    "all_dataset['test'].set_transform(val_transform)"
   ]
  },
  {
   "cell_type": "markdown",
   "metadata": {},
   "source": [
    "## 建模型並訓練"
   ]
  },
  {
   "cell_type": "markdown",
   "metadata": {},
   "source": [
    "### Baseline"
   ]
  },
  {
   "cell_type": "code",
   "execution_count": 15,
   "metadata": {},
   "outputs": [
    {
     "data": {
      "text/plain": [
       "0.5373493975903615"
      ]
     },
     "execution_count": 15,
     "metadata": {},
     "output_type": "execute_result"
    }
   ],
   "source": [
    "(train_df['class']==0).sum()/len(train_df)"
   ]
  },
  {
   "cell_type": "code",
   "execution_count": 16,
   "metadata": {},
   "outputs": [
    {
     "name": "stderr",
     "output_type": "stream",
     "text": [
      "Some weights of the model checkpoint at facebook/wav2vec2-base were not used when initializing Wav2Vec2ForSequenceClassification: ['project_q.weight', 'project_hid.bias', 'quantizer.weight_proj.weight', 'project_hid.weight', 'quantizer.weight_proj.bias', 'quantizer.codevectors', 'project_q.bias']\n",
      "- This IS expected if you are initializing Wav2Vec2ForSequenceClassification from the checkpoint of a model trained on another task or with another architecture (e.g. initializing a BertForSequenceClassification model from a BertForPreTraining model).\n",
      "- This IS NOT expected if you are initializing Wav2Vec2ForSequenceClassification from the checkpoint of a model that you expect to be exactly identical (initializing a BertForSequenceClassification model from a BertForSequenceClassification model).\n",
      "Some weights of Wav2Vec2ForSequenceClassification were not initialized from the model checkpoint at facebook/wav2vec2-base and are newly initialized: ['projector.weight', 'classifier.bias', 'projector.bias', 'classifier.weight']\n",
      "You should probably TRAIN this model on a down-stream task to be able to use it for predictions and inference.\n"
     ]
    }
   ],
   "source": [
    "device = \"cuda\" if torch.cuda.is_available() else \"cpu\"\n",
    "num_labels = 5\n",
    "model = AutoModelForAudioClassification.from_pretrained(\"facebook/wav2vec2-base\",num_labels=num_labels)\n",
    "model  = model.to(device)"
   ]
  },
  {
   "cell_type": "code",
   "execution_count": 17,
   "metadata": {},
   "outputs": [],
   "source": [
    "import evaluate\n",
    "accuracy = evaluate.load(\"accuracy\")\n",
    "def mean_recall(predictions,references):\n",
    "    results_recall = recall_score(references, predictions, average=None).mean()\n",
    "    return results_recall\n",
    "def compute_metrics(eval_pred):\n",
    "    predictions = np.argmax(eval_pred.predictions, axis=1)\n",
    "    res = accuracy.compute(predictions=predictions, references=eval_pred.label_ids)\n",
    "    res['recall'] = mean_recall(predictions,eval_pred.label_ids)\n",
    "    return res\n",
    "\n",
    "training_args = TrainingArguments(\n",
    "    output_dir=\"accoustic_model\",\n",
    "    evaluation_strategy=\"epoch\",\n",
    "    save_strategy=\"epoch\",\n",
    "    learning_rate=3e-5,\n",
    "    logging_strategy=\"epoch\",\n",
    "    per_device_train_batch_size=8,\n",
    "    gradient_accumulation_steps=1,\n",
    "    per_device_eval_batch_size=8,\n",
    "    num_train_epochs=50,\n",
    "    warmup_ratio=0.1,\n",
    "    remove_unused_columns=False,\n",
    "    load_best_model_at_end=True,\n",
    "    # eval_delay=5,\n",
    "    metric_for_best_model=\"recall\",\n",
    "    save_total_limit=5\n",
    ")\n",
    "\n",
    "trainer = Trainer(\n",
    "    model=model,\n",
    "    args=training_args,\n",
    "    train_dataset=all_dataset['train'],\n",
    "    eval_dataset=all_dataset['test'],\n",
    "    tokenizer=feature_extractor,\n",
    "    compute_metrics=compute_metrics,\n",
    "\n",
    ")"
   ]
  },
  {
   "cell_type": "code",
   "execution_count": 18,
   "metadata": {
    "scrolled": true,
    "tags": []
   },
   "outputs": [
    {
     "name": "stderr",
     "output_type": "stream",
     "text": [
      "/home/samuel/.conda/envs/aicup/lib/python3.8/site-packages/transformers/optimization.py:391: FutureWarning: This implementation of AdamW is deprecated and will be removed in a future version. Use the PyTorch implementation torch.optim.AdamW instead, or set `no_deprecation_warning=True` to disable this warning\n",
      "  warnings.warn(\n"
     ]
    },
    {
     "data": {
      "text/html": [
       "\n",
       "    <div>\n",
       "      \n",
       "      <progress value='2600' max='2600' style='width:300px; height:20px; vertical-align: middle;'></progress>\n",
       "      [2600/2600 13:33, Epoch 50/50]\n",
       "    </div>\n",
       "    <table border=\"1\" class=\"dataframe\">\n",
       "  <thead>\n",
       " <tr style=\"text-align: left;\">\n",
       "      <th>Epoch</th>\n",
       "      <th>Training Loss</th>\n",
       "      <th>Validation Loss</th>\n",
       "      <th>Accuracy</th>\n",
       "      <th>Recall</th>\n",
       "    </tr>\n",
       "  </thead>\n",
       "  <tbody>\n",
       "    <tr>\n",
       "      <td>1</td>\n",
       "      <td>1.525400</td>\n",
       "      <td>1.431845</td>\n",
       "      <td>0.532544</td>\n",
       "      <td>0.200000</td>\n",
       "    </tr>\n",
       "    <tr>\n",
       "      <td>2</td>\n",
       "      <td>1.282200</td>\n",
       "      <td>1.232547</td>\n",
       "      <td>0.532544</td>\n",
       "      <td>0.200000</td>\n",
       "    </tr>\n",
       "    <tr>\n",
       "      <td>3</td>\n",
       "      <td>1.202500</td>\n",
       "      <td>1.164234</td>\n",
       "      <td>0.568047</td>\n",
       "      <td>0.247778</td>\n",
       "    </tr>\n",
       "    <tr>\n",
       "      <td>4</td>\n",
       "      <td>1.165800</td>\n",
       "      <td>1.155887</td>\n",
       "      <td>0.597633</td>\n",
       "      <td>0.283492</td>\n",
       "    </tr>\n",
       "    <tr>\n",
       "      <td>5</td>\n",
       "      <td>1.157800</td>\n",
       "      <td>1.165949</td>\n",
       "      <td>0.556213</td>\n",
       "      <td>0.228571</td>\n",
       "    </tr>\n",
       "    <tr>\n",
       "      <td>6</td>\n",
       "      <td>1.128800</td>\n",
       "      <td>1.158051</td>\n",
       "      <td>0.585799</td>\n",
       "      <td>0.264286</td>\n",
       "    </tr>\n",
       "    <tr>\n",
       "      <td>7</td>\n",
       "      <td>1.129900</td>\n",
       "      <td>1.153439</td>\n",
       "      <td>0.579882</td>\n",
       "      <td>0.257143</td>\n",
       "    </tr>\n",
       "    <tr>\n",
       "      <td>8</td>\n",
       "      <td>1.104900</td>\n",
       "      <td>1.063250</td>\n",
       "      <td>0.591716</td>\n",
       "      <td>0.281270</td>\n",
       "    </tr>\n",
       "    <tr>\n",
       "      <td>9</td>\n",
       "      <td>1.088600</td>\n",
       "      <td>1.150517</td>\n",
       "      <td>0.597633</td>\n",
       "      <td>0.298254</td>\n",
       "    </tr>\n",
       "    <tr>\n",
       "      <td>10</td>\n",
       "      <td>1.092500</td>\n",
       "      <td>1.037574</td>\n",
       "      <td>0.633136</td>\n",
       "      <td>0.375251</td>\n",
       "    </tr>\n",
       "    <tr>\n",
       "      <td>11</td>\n",
       "      <td>1.042000</td>\n",
       "      <td>1.054655</td>\n",
       "      <td>0.627219</td>\n",
       "      <td>0.334539</td>\n",
       "    </tr>\n",
       "    <tr>\n",
       "      <td>12</td>\n",
       "      <td>1.030300</td>\n",
       "      <td>1.039144</td>\n",
       "      <td>0.639053</td>\n",
       "      <td>0.343904</td>\n",
       "    </tr>\n",
       "    <tr>\n",
       "      <td>13</td>\n",
       "      <td>1.059700</td>\n",
       "      <td>1.162872</td>\n",
       "      <td>0.597633</td>\n",
       "      <td>0.281755</td>\n",
       "    </tr>\n",
       "    <tr>\n",
       "      <td>14</td>\n",
       "      <td>1.068500</td>\n",
       "      <td>1.029008</td>\n",
       "      <td>0.656805</td>\n",
       "      <td>0.353462</td>\n",
       "    </tr>\n",
       "    <tr>\n",
       "      <td>15</td>\n",
       "      <td>1.043700</td>\n",
       "      <td>1.105135</td>\n",
       "      <td>0.603550</td>\n",
       "      <td>0.288897</td>\n",
       "    </tr>\n",
       "    <tr>\n",
       "      <td>16</td>\n",
       "      <td>1.004300</td>\n",
       "      <td>1.001962</td>\n",
       "      <td>0.680473</td>\n",
       "      <td>0.388400</td>\n",
       "    </tr>\n",
       "    <tr>\n",
       "      <td>17</td>\n",
       "      <td>0.995400</td>\n",
       "      <td>0.955277</td>\n",
       "      <td>0.686391</td>\n",
       "      <td>0.402201</td>\n",
       "    </tr>\n",
       "    <tr>\n",
       "      <td>18</td>\n",
       "      <td>0.951900</td>\n",
       "      <td>1.037075</td>\n",
       "      <td>0.656805</td>\n",
       "      <td>0.371991</td>\n",
       "    </tr>\n",
       "    <tr>\n",
       "      <td>19</td>\n",
       "      <td>0.951900</td>\n",
       "      <td>0.970496</td>\n",
       "      <td>0.674556</td>\n",
       "      <td>0.410197</td>\n",
       "    </tr>\n",
       "    <tr>\n",
       "      <td>20</td>\n",
       "      <td>0.966600</td>\n",
       "      <td>1.012327</td>\n",
       "      <td>0.662722</td>\n",
       "      <td>0.375367</td>\n",
       "    </tr>\n",
       "    <tr>\n",
       "      <td>21</td>\n",
       "      <td>0.874300</td>\n",
       "      <td>1.014480</td>\n",
       "      <td>0.621302</td>\n",
       "      <td>0.387014</td>\n",
       "    </tr>\n",
       "    <tr>\n",
       "      <td>22</td>\n",
       "      <td>0.879500</td>\n",
       "      <td>1.046338</td>\n",
       "      <td>0.644970</td>\n",
       "      <td>0.354509</td>\n",
       "    </tr>\n",
       "    <tr>\n",
       "      <td>23</td>\n",
       "      <td>0.920700</td>\n",
       "      <td>1.029735</td>\n",
       "      <td>0.639053</td>\n",
       "      <td>0.403522</td>\n",
       "    </tr>\n",
       "    <tr>\n",
       "      <td>24</td>\n",
       "      <td>0.861300</td>\n",
       "      <td>1.005097</td>\n",
       "      <td>0.650888</td>\n",
       "      <td>0.404492</td>\n",
       "    </tr>\n",
       "    <tr>\n",
       "      <td>25</td>\n",
       "      <td>0.912300</td>\n",
       "      <td>1.087216</td>\n",
       "      <td>0.621302</td>\n",
       "      <td>0.403222</td>\n",
       "    </tr>\n",
       "    <tr>\n",
       "      <td>26</td>\n",
       "      <td>0.842300</td>\n",
       "      <td>1.056934</td>\n",
       "      <td>0.650888</td>\n",
       "      <td>0.395526</td>\n",
       "    </tr>\n",
       "    <tr>\n",
       "      <td>27</td>\n",
       "      <td>0.800000</td>\n",
       "      <td>1.058341</td>\n",
       "      <td>0.621302</td>\n",
       "      <td>0.376311</td>\n",
       "    </tr>\n",
       "    <tr>\n",
       "      <td>28</td>\n",
       "      <td>0.808800</td>\n",
       "      <td>1.062079</td>\n",
       "      <td>0.639053</td>\n",
       "      <td>0.384131</td>\n",
       "    </tr>\n",
       "    <tr>\n",
       "      <td>29</td>\n",
       "      <td>0.768700</td>\n",
       "      <td>1.042243</td>\n",
       "      <td>0.639053</td>\n",
       "      <td>0.399755</td>\n",
       "    </tr>\n",
       "    <tr>\n",
       "      <td>30</td>\n",
       "      <td>0.744200</td>\n",
       "      <td>1.025641</td>\n",
       "      <td>0.674556</td>\n",
       "      <td>0.400356</td>\n",
       "    </tr>\n",
       "    <tr>\n",
       "      <td>31</td>\n",
       "      <td>0.807600</td>\n",
       "      <td>1.055388</td>\n",
       "      <td>0.686391</td>\n",
       "      <td>0.413196</td>\n",
       "    </tr>\n",
       "    <tr>\n",
       "      <td>32</td>\n",
       "      <td>0.701700</td>\n",
       "      <td>1.042742</td>\n",
       "      <td>0.680473</td>\n",
       "      <td>0.404316</td>\n",
       "    </tr>\n",
       "    <tr>\n",
       "      <td>33</td>\n",
       "      <td>0.744800</td>\n",
       "      <td>1.045887</td>\n",
       "      <td>0.668639</td>\n",
       "      <td>0.396688</td>\n",
       "    </tr>\n",
       "    <tr>\n",
       "      <td>34</td>\n",
       "      <td>0.706500</td>\n",
       "      <td>1.066808</td>\n",
       "      <td>0.680473</td>\n",
       "      <td>0.399395</td>\n",
       "    </tr>\n",
       "    <tr>\n",
       "      <td>35</td>\n",
       "      <td>0.683800</td>\n",
       "      <td>1.067189</td>\n",
       "      <td>0.656805</td>\n",
       "      <td>0.377482</td>\n",
       "    </tr>\n",
       "    <tr>\n",
       "      <td>36</td>\n",
       "      <td>0.649900</td>\n",
       "      <td>1.221309</td>\n",
       "      <td>0.627219</td>\n",
       "      <td>0.381716</td>\n",
       "    </tr>\n",
       "    <tr>\n",
       "      <td>37</td>\n",
       "      <td>0.589300</td>\n",
       "      <td>1.079046</td>\n",
       "      <td>0.674556</td>\n",
       "      <td>0.472420</td>\n",
       "    </tr>\n",
       "    <tr>\n",
       "      <td>38</td>\n",
       "      <td>0.595400</td>\n",
       "      <td>1.054541</td>\n",
       "      <td>0.668639</td>\n",
       "      <td>0.445744</td>\n",
       "    </tr>\n",
       "    <tr>\n",
       "      <td>39</td>\n",
       "      <td>0.611200</td>\n",
       "      <td>1.098464</td>\n",
       "      <td>0.674556</td>\n",
       "      <td>0.462578</td>\n",
       "    </tr>\n",
       "    <tr>\n",
       "      <td>40</td>\n",
       "      <td>0.599000</td>\n",
       "      <td>1.163214</td>\n",
       "      <td>0.656805</td>\n",
       "      <td>0.442746</td>\n",
       "    </tr>\n",
       "    <tr>\n",
       "      <td>41</td>\n",
       "      <td>0.571600</td>\n",
       "      <td>1.156443</td>\n",
       "      <td>0.662722</td>\n",
       "      <td>0.422102</td>\n",
       "    </tr>\n",
       "    <tr>\n",
       "      <td>42</td>\n",
       "      <td>0.555500</td>\n",
       "      <td>1.198700</td>\n",
       "      <td>0.656805</td>\n",
       "      <td>0.426538</td>\n",
       "    </tr>\n",
       "    <tr>\n",
       "      <td>43</td>\n",
       "      <td>0.554600</td>\n",
       "      <td>1.178323</td>\n",
       "      <td>0.662722</td>\n",
       "      <td>0.428760</td>\n",
       "    </tr>\n",
       "    <tr>\n",
       "      <td>44</td>\n",
       "      <td>0.526200</td>\n",
       "      <td>1.153723</td>\n",
       "      <td>0.668639</td>\n",
       "      <td>0.439086</td>\n",
       "    </tr>\n",
       "    <tr>\n",
       "      <td>45</td>\n",
       "      <td>0.487400</td>\n",
       "      <td>1.155550</td>\n",
       "      <td>0.668639</td>\n",
       "      <td>0.466785</td>\n",
       "    </tr>\n",
       "    <tr>\n",
       "      <td>46</td>\n",
       "      <td>0.522200</td>\n",
       "      <td>1.185313</td>\n",
       "      <td>0.668639</td>\n",
       "      <td>0.458681</td>\n",
       "    </tr>\n",
       "    <tr>\n",
       "      <td>47</td>\n",
       "      <td>0.440200</td>\n",
       "      <td>1.215221</td>\n",
       "      <td>0.680473</td>\n",
       "      <td>0.461680</td>\n",
       "    </tr>\n",
       "    <tr>\n",
       "      <td>48</td>\n",
       "      <td>0.471300</td>\n",
       "      <td>1.234096</td>\n",
       "      <td>0.680473</td>\n",
       "      <td>0.469783</td>\n",
       "    </tr>\n",
       "    <tr>\n",
       "      <td>49</td>\n",
       "      <td>0.432100</td>\n",
       "      <td>1.258238</td>\n",
       "      <td>0.674556</td>\n",
       "      <td>0.459457</td>\n",
       "    </tr>\n",
       "    <tr>\n",
       "      <td>50</td>\n",
       "      <td>0.450400</td>\n",
       "      <td>1.258514</td>\n",
       "      <td>0.674556</td>\n",
       "      <td>0.459457</td>\n",
       "    </tr>\n",
       "  </tbody>\n",
       "</table><p>"
      ],
      "text/plain": [
       "<IPython.core.display.HTML object>"
      ]
     },
     "metadata": {},
     "output_type": "display_data"
    }
   ],
   "source": [
    "res = trainer.train()"
   ]
  },
  {
   "cell_type": "code",
   "execution_count": 19,
   "metadata": {},
   "outputs": [
    {
     "data": {
      "text/plain": [
       "'accoustic_model/checkpoint-1924'"
      ]
     },
     "execution_count": 19,
     "metadata": {},
     "output_type": "execute_result"
    }
   ],
   "source": [
    "best_model_path = trainer.state.best_model_checkpoint\n",
    "best_model_path"
   ]
  },
  {
   "cell_type": "code",
   "execution_count": 21,
   "metadata": {},
   "outputs": [],
   "source": [
    "l = []\n",
    "train_loss={}\n",
    "for obj in trainer.state.log_history:\n",
    "    if \"eval_loss\" in obj.keys():\n",
    "        l.append(obj)\n",
    "    if \"loss\" in obj.keys():\n",
    "        train_loss['loss'] = train_loss.get(\"loss\",[])\n",
    "        train_loss['loss'].append(obj['loss'])"
   ]
  },
  {
   "cell_type": "code",
   "execution_count": 28,
   "metadata": {},
   "outputs": [
    {
     "data": {
      "image/png": "[encoded data removed]",
      "text/plain": [
       "<Figure size 640x480 with 1 Axes>"
      ]
     },
     "metadata": {},
     "output_type": "display_data"
    }
   ],
   "source": [
    "dic = {}\n",
    "for d in l:\n",
    "    for k,v in d.items():\n",
    "        dic[k] = dic.get(k,[])\n",
    "        dic[k].append(v)\n",
    "eval_df = pd.DataFrame(dic)\n",
    "ax = eval_df.iloc[:,1:3].plot()"
   ]
  },
  {
   "cell_type": "code",
   "execution_count": 23,
   "metadata": {},
   "outputs": [
    {
     "data": {
      "image/png": "[encoded data removed]",
      "text/plain": [
       "<Figure size 640x480 with 1 Axes>"
      ]
     },
     "metadata": {},
     "output_type": "display_data"
    }
   ],
   "source": [
    "df_train = pd.DataFrame(train_loss)\n",
    "df = pd.concat([df_train,eval_df.iloc[:,0]],axis=1)\n",
    "ax = df.plot()"
   ]
  },
  {
   "cell_type": "markdown",
   "metadata": {
    "id": "Z9QcyHge0f8g"
   },
   "source": [
    "## 訓練資料預測結果"
   ]
  },
  {
   "cell_type": "code",
   "execution_count": 24,
   "metadata": {
    "colab": {
     "base_uri": "https://localhost:8080/",
     "height": 1000
    },
    "executionInfo": {
     "elapsed": 173879,
     "status": "ok",
     "timestamp": 1679113561697,
     "user": {
      "displayName": "Nien-Ting Lee",
      "userId": "13054204329208761386"
     },
     "user_tz": -480
    },
    "id": "SU-bPinv0f8g",
    "outputId": "d39a52df-eac1-43fc-fcef-30e647b36fc7"
   },
   "outputs": [
    {
     "name": "stdout",
     "output_type": "stream",
     "text": [
      "Training UAR(Unweighted Average Recall) : 0.6531471717121942\n"
     ]
    },
    {
     "data": {
      "text/plain": [
       "<sklearn.metrics._plot.confusion_matrix.ConfusionMatrixDisplay at 0x7f3cfc4e1b20>"
      ]
     },
     "execution_count": 24,
     "metadata": {},
     "output_type": "execute_result"
    },
    {
     "data": {
      "image/png": "[encoded data removed]",
      "text/plain": [
       "<Figure size 640x480 with 2 Axes>"
      ]
     },
     "metadata": {},
     "output_type": "display_data"
    }
   ],
   "source": [
    "y_true = train_df['class'] \n",
    "y_pred = []\n",
    "feature_extractor = AutoFeatureExtractor.from_pretrained(best_model_path)\n",
    "model = AutoModelForAudioClassification.from_pretrained(best_model_path)\n",
    "for i in range(len(train_df)):\n",
    "    voice = train_df.iloc[i,:]['audio']\n",
    "    inputs = feature_extractor(voice, sampling_rate=16000, return_tensors=\"pt\")\n",
    "    logits = model(**inputs).logits[0]\n",
    "    pred = np.argmax(logits.detach().cpu().numpy())\n",
    "    y_pred.append(pred)\n",
    "\n",
    "results_recall = recall_score(y_true, y_pred, average=None)\n",
    "print(\"Training UAR(Unweighted Average Recall) :\", results_recall.mean())\n",
    "\n",
    "ConfusionMatrixDisplay(confusion_matrix(y_true, y_pred)).plot(cmap='Blues')"
   ]
  },
  {
   "cell_type": "markdown",
   "metadata": {
    "id": "B10Wk9QP0f8g"
   },
   "source": [
    "# 驗證資料測試結果"
   ]
  },
  {
   "cell_type": "code",
   "execution_count": 25,
   "metadata": {
    "id": "WzR8pEBO0f8h",
    "outputId": "13b09f37-57cc-42fd-e527-b0baca8d6559"
   },
   "outputs": [
    {
     "name": "stdout",
     "output_type": "stream",
     "text": [
      "Training UAR(Unweighted Average Recall) : 0.4724195624195625\n"
     ]
    },
    {
     "data": {
      "text/plain": [
       "<sklearn.metrics._plot.confusion_matrix.ConfusionMatrixDisplay at 0x7f3d1bb062e0>"
      ]
     },
     "execution_count": 25,
     "metadata": {},
     "output_type": "execute_result"
    },
    {
     "data": {
      "image/png": "[encoded data removed]",
      "text/plain": [
       "<Figure size 640x480 with 2 Axes>"
      ]
     },
     "metadata": {},
     "output_type": "display_data"
    }
   ],
   "source": [
    "y_true = test_df['class'] \n",
    "y_pred = []\n",
    "feature_extractor = AutoFeatureExtractor.from_pretrained(best_model_path)\n",
    "model = AutoModelForAudioClassification.from_pretrained(best_model_path)\n",
    "for i in range(len(test_df)):\n",
    "    voice = test_df.iloc[i,:]['audio']\n",
    "    inputs = feature_extractor(voice, sampling_rate=16000,max_length=48000, return_tensors=\"pt\")\n",
    "    logits = model(**inputs).logits[0]\n",
    "    pred = np.argmax(logits.detach().cpu().numpy())\n",
    "    y_pred.append(pred)\n",
    "results_recall = recall_score(y_true, y_pred, average=None)\n",
    "print(\"Training UAR(Unweighted Average Recall) :\", results_recall.mean())\n",
    "\n",
    "ConfusionMatrixDisplay(confusion_matrix(y_true, y_pred)).plot(cmap='Blues')"
   ]
  },
  {
   "cell_type": "code",
   "execution_count": 27,
   "metadata": {},
   "outputs": [],
   "source": [
    "with open(\"accoustic_model_path.txt\",\"w\") as f :\n",
    "    f.write(best_model_path)"
   ]
  },
  {
   "cell_type": "code",
   "execution_count": null,
   "metadata": {},
   "outputs": [],
   "source": []
  }
 ],
 "metadata": {
  "accelerator": "GPU",
  "colab": {
   "provenance": [],
   "toc_visible": true
  },
  "gpuClass": "standard",
  "kernelspec": {
   "display_name": "Python [conda env:.conda-aicup]",
   "language": "python",
   "name": "conda-env-.conda-aicup-py"
  },
  "language_info": {
   "codemirror_mode": {
    "name": "ipython",
    "version": 3
   },
   "file_extension": ".py",
   "mimetype": "text/x-python",
   "name": "python",
   "nbconvert_exporter": "python",
   "pygments_lexer": "ipython3",
   "version": "3.8.16"
  },
  "vscode": {
   "interpreter": {
    "hash": "f97432c16914304dbd818b138841742b9483a5a148ca981647dc7438178b3282"
   }
  }
 },
 "nbformat": 4,
 "nbformat_minor": 4
}
